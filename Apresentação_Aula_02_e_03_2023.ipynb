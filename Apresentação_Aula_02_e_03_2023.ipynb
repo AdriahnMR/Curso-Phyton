{
  "nbformat": 4,
  "nbformat_minor": 0,
  "metadata": {
    "colab": {
      "provenance": [],
      "authorship_tag": "ABX9TyNFmxZkXblAKBComm2tFD+E",
      "include_colab_link": true
    },
    "kernelspec": {
      "name": "python3",
      "display_name": "Python 3"
    },
    "language_info": {
      "name": "python"
    }
  },
  "cells": [
    {
      "cell_type": "markdown",
      "metadata": {
        "id": "view-in-github",
        "colab_type": "text"
      },
      "source": [
        "<a href=\"https://colab.research.google.com/github/AdriahnMR/Curso-Phyton/blob/main/Apresenta%C3%A7%C3%A3o_Aula_02_e_03_2023.ipynb\" target=\"_parent\"><img src=\"https://colab.research.google.com/assets/colab-badge.svg\" alt=\"Open In Colab\"/></a>"
      ]
    },
    {
      "cell_type": "markdown",
      "source": [
        "*Segunda, terceira e quarta aula de Phyton*\n",
        "\n",
        "Autor: Adriahn Moura Roque\n",
        "\n",
        "Datas: 29/03/2023, 05/04/2023 e 12/04/2023\n"
      ],
      "metadata": {
        "id": "jkgI2PTmUlpN"
      }
    },
    {
      "cell_type": "markdown",
      "source": [
        "*Operadores Lógicos*"
      ],
      "metadata": {
        "id": "a9QjatCXU8bV"
      }
    },
    {
      "cell_type": "code",
      "source": [
        "# Operadores Relacionais\n",
        "# Operador de igualdade (==)\n",
        "\n",
        "# Colocar 7 == 7, verificar a resposta na execussão do programa;\n",
        "print(7 == 7)\n",
        "\n",
        "# Colocar 7 == 5, verificar a resposta na execussão do programa;\n",
        "print( 7 == 5)"
      ],
      "metadata": {
        "colab": {
          "base_uri": "https://localhost:8080/"
        },
        "id": "JY2wdRCzU_EO",
        "outputId": "a81bf9ff-24fe-4e5e-9614-57a00dce1c96"
      },
      "execution_count": null,
      "outputs": [
        {
          "output_type": "stream",
          "name": "stdout",
          "text": [
            "True\n",
            "False\n"
          ]
        }
      ]
    },
    {
      "cell_type": "code",
      "source": [
        "# Operadores menor que (<) e maior que (>)\n",
        "\n",
        "# Colocar 7 < 7, verificar a resposta na execussão do programa;\n",
        "print( 7 < 7) # False\n",
        "\n",
        "# Colocar 7 < 10, verificar a resposta na execussão do programa;\n",
        "print( 7 < 10) # True\n",
        "\n",
        "# Colocar 7 > 7, verificar a resposta na execussão do programa;\n",
        "print ( 7 > 7) #False\n",
        "\n",
        "# Colocar 7 > 5, verificar a resposta na execussão do programa;\n",
        "print ( 7 > 5) #True\n"
      ],
      "metadata": {
        "colab": {
          "base_uri": "https://localhost:8080/"
        },
        "id": "1Gx7yeqMV2qG",
        "outputId": "6e055583-690b-42fa-a879-3fb38712b714"
      },
      "execution_count": null,
      "outputs": [
        {
          "output_type": "stream",
          "name": "stdout",
          "text": [
            "False\n",
            "True\n",
            "False\n",
            "True\n"
          ]
        }
      ]
    },
    {
      "cell_type": "code",
      "source": [
        "# Operadores menor ou igual que (<) e maior ou igual que (>)\n",
        "\n",
        "# Colocar 7 <= 7, verificar a resposta na execussão do programa;\n",
        "print( 7 <= 7) #True porque é igual\n",
        "\n",
        "# Colocar 7 <= 10, verificar a resposta na execussão do programa;\n",
        "print( 7 <= 10) #True\n",
        "\n",
        "# Colocar 7 >= 7, verificar a resposta na execussão do programa;\n",
        "print( 7 >= 7) #True porque é igual\n",
        "\n",
        "# Colocar 7 >= 5, verificar a resposta na execussão do programa;\n",
        "print( 7 >= 5) #True\n"
      ],
      "metadata": {
        "colab": {
          "base_uri": "https://localhost:8080/"
        },
        "id": "tRley8kVW-Qe",
        "outputId": "e210cef9-301f-480f-ea3f-1349e0da0bb9"
      },
      "execution_count": null,
      "outputs": [
        {
          "output_type": "stream",
          "name": "stdout",
          "text": [
            "True\n",
            "True\n",
            "True\n",
            "True\n"
          ]
        }
      ]
    },
    {
      "cell_type": "code",
      "source": [
        "# Operador de diferente (!=) ou ! => Operador de negação\n",
        "\n",
        "# Colocar 7 != 7, verificar a resposta na execussão do programa;\n",
        "print(7 != 7) # False\n",
        "\n",
        "# Colocar 7 != 5, verificar a resposta na execussão do programa;\n",
        "print(7 != 5) # True"
      ],
      "metadata": {
        "colab": {
          "base_uri": "https://localhost:8080/"
        },
        "id": "61jWQ86mYNxn",
        "outputId": "0f751ef3-2f51-43c5-b99a-e8ae9c50ee32"
      },
      "execution_count": null,
      "outputs": [
        {
          "output_type": "stream",
          "name": "stdout",
          "text": [
            "False\n",
            "True\n"
          ]
        }
      ]
    },
    {
      "cell_type": "markdown",
      "source": [
        "*Tabelas Verdade*"
      ],
      "metadata": {
        "id": "ijmUs6o7Zv5P"
      }
    },
    {
      "cell_type": "code",
      "source": [
        "# Tabela do E (AND)\n",
        "\n",
        "print(\"|   A\\t|   B\\t| SAÍDA |\")\n",
        "print(\"|\",False,\"|\",False,\"|\",False and False,\"|\")\n",
        "print(\"|\",True,\"\\t|\",False,\"|\",True and False,\"|\")\n",
        "print(\"|\",False,\"|\",True,\"\\t|\",False and True,\"|\")\n",
        "print(\"|\",True,\"\\t|\",True,\"\\t|\",True and True,\"\\t|\")"
      ],
      "metadata": {
        "colab": {
          "base_uri": "https://localhost:8080/"
        },
        "id": "jQKAvwI3ZyYu",
        "outputId": "e54276e6-404a-4ea7-afb3-393a35ee05f9"
      },
      "execution_count": null,
      "outputs": [
        {
          "output_type": "stream",
          "name": "stdout",
          "text": [
            "|   A\t|   B\t| SAÍDA |\n",
            "| False | False | False |\n",
            "| True \t| False | False |\n",
            "| False | True \t| False |\n",
            "| True \t| True \t| True \t|\n"
          ]
        }
      ]
    },
    {
      "cell_type": "code",
      "source": [
        "# EXEMPLO: Verificar se uma idade é maior do que a 17 E menor do que 71.\n",
        "\n",
        "idade = int(input(\"Idade: \"))\n",
        "print(idade > 17 and idade < 71)"
      ],
      "metadata": {
        "colab": {
          "base_uri": "https://localhost:8080/"
        },
        "id": "wY6dxxRRlKCw",
        "outputId": "637b0489-6f77-4abd-ec3a-bc551ccdc38a"
      },
      "execution_count": null,
      "outputs": [
        {
          "output_type": "stream",
          "name": "stdout",
          "text": [
            "Idade: 23\n",
            "True\n"
          ]
        }
      ]
    },
    {
      "cell_type": "code",
      "source": [
        "# Tabela do OU (OR)\n",
        "\n",
        "print(\"|   A\\t|   B\\t| SAÍDA |\")\n",
        "print(\"|\",False,\"|\",False,\"|\",False or False,\"|\")\n",
        "print(\"|\",True,\"\\t|\",False,\"|\",True or False,\" |\")\n",
        "print(\"|\",False,\"|\",True,\"\\t|\",False or True,\" |\")\n",
        "print(\"|\",True,\"\\t|\",True,\"\\t|\",True or True,\" |\")"
      ],
      "metadata": {
        "colab": {
          "base_uri": "https://localhost:8080/"
        },
        "id": "YviaHv04lz_K",
        "outputId": "d7ecb266-350e-4405-9995-0b60ed28d04c"
      },
      "execution_count": null,
      "outputs": [
        {
          "output_type": "stream",
          "name": "stdout",
          "text": [
            "|   A\t|   B\t| SAÍDA |\n",
            "| False | False | False |\n",
            "| True \t| False | True  |\n",
            "| False | True \t| True  |\n",
            "| True \t| True \t| True  |\n"
          ]
        }
      ]
    },
    {
      "cell_type": "code",
      "source": [
        "# EXEMPLO: Verificar se uma idade é menor do que a 18 OU maior do que 70.\n",
        "\n",
        "idade = int(input(\"Idade: \"))\n",
        "print(idade < 18 or idade > 70)"
      ],
      "metadata": {
        "colab": {
          "base_uri": "https://localhost:8080/"
        },
        "id": "0wDjAs2jl_mB",
        "outputId": "87b79acb-fdb7-4d0d-feb2-5c731078f5ec"
      },
      "execution_count": null,
      "outputs": [
        {
          "output_type": "stream",
          "name": "stdout",
          "text": [
            "Idade: 23\n",
            "False\n"
          ]
        }
      ]
    },
    {
      "cell_type": "code",
      "source": [
        "# Tabela do XOR (^)\n",
        "\n",
        "print(\"|   A\\t|   B\\t| SAÍDA |\")\n",
        "print(\"|\",False,\"|\",False,\"|\",False ^ False,\"|\")\n",
        "print(\"|\",True,\"\\t|\",False,\"|\",True ^ False,\"\\t|\")\n",
        "print(\"|\",False,\"|\",True,\"\\t|\",False ^ True,\"\\t|\")\n",
        "print(\"|\",True,\"\\t|\",True,\"\\t|\",True ^ True,\"|\")"
      ],
      "metadata": {
        "colab": {
          "base_uri": "https://localhost:8080/"
        },
        "id": "Ax09e1qYmX1N",
        "outputId": "f965cdd4-ffa9-4ddc-b6c4-c53f26f37e6f"
      },
      "execution_count": null,
      "outputs": [
        {
          "output_type": "stream",
          "name": "stdout",
          "text": [
            "|   A\t|   B\t| SAÍDA |\n",
            "| False | False | False |\n",
            "| True \t| False | True \t|\n",
            "| False | True \t| True \t|\n",
            "| True \t| True \t| False |\n"
          ]
        }
      ]
    },
    {
      "cell_type": "code",
      "source": [
        "# Tabela de Negação (not)\n",
        "\n",
        "print(\"|   A\\t| Não A |\")\n",
        "print(\"|\",False,\"|\",not False,\"\\t|\")\n",
        "print(\"|\",True,\"\\t|\",not True,\"|\")"
      ],
      "metadata": {
        "colab": {
          "base_uri": "https://localhost:8080/"
        },
        "id": "CXfDsMkKnUJU",
        "outputId": "0895d180-7368-4ec8-e9bd-8f0f5ce1ed11"
      },
      "execution_count": null,
      "outputs": [
        {
          "output_type": "stream",
          "name": "stdout",
          "text": [
            "|   A\t| Não A |\n",
            "| False | True \t|\n",
            "| True \t| False |\n"
          ]
        }
      ]
    },
    {
      "cell_type": "markdown",
      "source": [
        "*Condicionais*"
      ],
      "metadata": {
        "id": "9sHaiqyzpEx7"
      }
    },
    {
      "cell_type": "code",
      "source": [
        "# Condição SE (IF)\n",
        "\n",
        "n = 2 \n",
        "if n == 2: \n",
        "    print(\"{} igual a 2\".format(n))\n",
        "    print(\"Eu\")"
      ],
      "metadata": {
        "colab": {
          "base_uri": "https://localhost:8080/"
        },
        "id": "xVxsKePBpMTC",
        "outputId": "a25e6530-5015-43ac-d489-4833bb8a33dd"
      },
      "execution_count": null,
      "outputs": [
        {
          "output_type": "stream",
          "name": "stdout",
          "text": [
            "2 igual a 2\n",
            "Eu\n"
          ]
        }
      ]
    },
    {
      "cell_type": "code",
      "source": [
        "# Condição SENÃO (ELSE)\n",
        "\n",
        "n = 3\n",
        "if n == 2:\n",
        "    print(\"{} igual a 2\".format(n)) \n",
        "else:\n",
        "    print(\"{} diferente a 2\".format(n))"
      ],
      "metadata": {
        "colab": {
          "base_uri": "https://localhost:8080/"
        },
        "id": "_jVX6lAesQ7N",
        "outputId": "a09ccb1e-ca20-4f23-a183-00dc3761fec8"
      },
      "execution_count": null,
      "outputs": [
        {
          "output_type": "stream",
          "name": "stdout",
          "text": [
            "3 diferente a 2\n"
          ]
        }
      ]
    },
    {
      "cell_type": "code",
      "source": [
        "# Condição SENÃO SE (ELIF)\n",
        "\n",
        "n = 3\n",
        "if n == 2:\n",
        "  print(\"{} é igual a 2\".format(n))\n",
        "\n",
        "elif n == 3:\n",
        "    print(\"{} é igual a 3\".format(n))\n",
        "\n",
        "else:\n",
        "    print(\"{} é diferente de 2 e de 3\".format(n))"
      ],
      "metadata": {
        "colab": {
          "base_uri": "https://localhost:8080/"
        },
        "id": "Py9O5Lfbt-Qu",
        "outputId": "cf2af70d-0612-4803-d392-48e0976c72a2"
      },
      "execution_count": null,
      "outputs": [
        {
          "output_type": "stream",
          "name": "stdout",
          "text": [
            "3 é igual a 3\n"
          ]
        }
      ]
    },
    {
      "cell_type": "markdown",
      "source": [
        "*Exercícios*"
      ],
      "metadata": {
        "id": "pgK3z3FxGMB1"
      }
    },
    {
      "cell_type": "code",
      "source": [
        "# Caluladora de Peso Ideal\n",
        "\n",
        "# Declarar a entrada da Altura\n",
        "\n",
        "altura = float (input(\"Digite sua altura em metros: \"))\n",
        "\n",
        "# Declarar a entrada do Peso\n",
        "\n",
        "peso = float(input(\"Digite seu peso em quilos: \"))\n",
        "\n",
        "# Declarar a entrada do Sexo Biológico\n",
        "\n",
        "sexo = input(\"Digite seu sexo (Masculino ou Feminino): \")\n",
        "\n",
        "# Declaração de if para calcular peso ideal\n",
        "\n",
        "if sexo == \"Masculino\":\n",
        "    peso_ideal = 72.7 * altura - 50\n",
        "elif sexo == \"Feminino\":\n",
        "    peso_ideal = 62.1 * altura - 44.7\n",
        "else:\n",
        "    print(\"Sexo inválido\")\n",
        "    quit()\n",
        "\n",
        "# Imprime o peso ideal calculado\n",
        "  \n",
        "print(f\"Seu peso ideal é {peso_ideal} Quilos\")\n",
        "\n",
        "\n",
        "# Verifica se o peso atual do usuário é maior, igual ou menor que o peso ideal e imprime a mensagem apropriada\n",
        "\n",
        "if peso > peso_ideal:\n",
        "    diferença = peso - peso_ideal\n",
        "    print(\"Frase motivacional: O corpo atinge o que a mente acredita!\")\n",
        "elif peso == peso_ideal:\n",
        "    print(\"Parabéns por estar no peso ideal!\")\n",
        "    print(\"Frase motivacional: Seja forte, mantenha seu peso ideal!\")\n",
        "else:\n",
        "  diferença = peso_ideal - peso\n",
        "  print(\"Você precisa ganhar mais peso\", diferença, \"Quilos a serem atingidos para seu peso ideal!\")\n",
        "  print(\"Frase de alerta: Cuidado, estar abaixo do peso ideal pode trazer consequências a sua saúde!\")"
      ],
      "metadata": {
        "colab": {
          "base_uri": "https://localhost:8080/"
        },
        "id": "gN1aIlD6JPd6",
        "outputId": "5a9b5606-9139-4993-8991-29f66cdc0012"
      },
      "execution_count": null,
      "outputs": [
        {
          "output_type": "stream",
          "name": "stdout",
          "text": [
            "Digite sua altura em metros: 1.60\n",
            "Digite seu peso em quilos: 56\n",
            "Digite seu sexo (Masculino ou Feminino): Feminino\n",
            "Seu peso ideal é 54.66000000000001 Quilos\n",
            "Frase motivacional: O corpo atinge o que a mente acredita!\n"
          ]
        }
      ]
    },
    {
      "cell_type": "code",
      "source": [
        "# Qual o maior\n",
        "# Escreva um programa que recebe 2 valores e devolve o maior entre eles.\n",
        "\n",
        "# Declaração da variável 1\n",
        "num_1  = input(\"1° número: \")\n",
        "\n",
        "# Declaração da variável 2\n",
        "num_2  = input(\"2° número: \")\n",
        "\n",
        "# Imprimir na tela mensagem: \"O X é maior do que o Y\"\n",
        "\n",
        "if (num_1.isdecimal() and num_2.isdecimal()):\n",
        "    if num_1 > num_2:\n",
        "        print(f'{num_1} é maior que o {num_2}')\n",
        "    elif num_1 == num_2:\n",
        "         print(\"São iguais\")\n",
        "    else:\n",
        "        print(f'{num_2} é maior que o {num_1}')\n",
        "\n",
        "else:\n",
        "    print(\"Erro\")\n"
      ],
      "metadata": {
        "colab": {
          "base_uri": "https://localhost:8080/"
        },
        "id": "CkDYqTdqZMc6",
        "outputId": "4489e211-518e-4931-c072-7760f79fe1a4"
      },
      "execution_count": null,
      "outputs": [
        {
          "output_type": "stream",
          "name": "stdout",
          "text": [
            "1° número: 3\n",
            "2° número: 1\n",
            "3 é maior que o 1\n"
          ]
        }
      ]
    },
    {
      "cell_type": "code",
      "source": [
        "# Cálculo de preços\n",
        "\n",
        "total = 0\n",
        "\n",
        "print(\"\"\" ****** CARDÁPIO - PRATOS SALGADOS *****\n",
        "    1 - Hamburguer - R$ 15,00\n",
        "    2 - Dogão - R$ 10,00\n",
        "    3 - Pizza - R$ 70,00\n",
        "    4 - Esfirra - R$ 5,00\n",
        "\"\"\")\n",
        "pedido = input(\"Qual o seu pedido: \")\n",
        "\n",
        "if pedido == \"1\":\n",
        "   print(\"Você selecionou Hamburguer\")\n",
        "   total = total + 15\n",
        "elif pedido == \"2\":\n",
        "    print(\"Você selecionou Dogão\")\n",
        "    total = total + 10\n",
        "elif pedido == \"3\":\n",
        "    print(\"Você selecionou Pizza\")\n",
        "    total = total + 70\n",
        "elif pedido == \"4\":\n",
        "    print(\"Você selecionou Esfirra\")\n",
        "    total = total + 5\n",
        "else:\n",
        "    print(\"Opção inválida\")\n",
        "\n",
        "print(\"\"\" ****** CARDÁPIO - PRATOS DOCES *****\n",
        "    1 - Musse de limão - R$ 10,00\n",
        "    2 - Torta de chocolate - R$ 25,00\n",
        "    3 - Bolo de Nutella - R$ 35,00\n",
        "    4 - Sorvete - R$ 13,00\n",
        "\"\"\")\n",
        "pedido = input(\"Qual o seu pedido: \")\n",
        "\n",
        "if pedido == \"1\":\n",
        "   print(\"Você selecionou Musse de limão\")\n",
        "   total = total + 10\n",
        "elif pedido == \"2\":\n",
        "    print(\"Você selecionou Torta de chocolate\")\n",
        "    total = total + 25\n",
        "elif pedido == \"3\":\n",
        "    print(\"Você selecionou Bolo de Nutella\")\n",
        "    total = total + 35\n",
        "elif pedido == \"4\":\n",
        "    print(\"Você selecionou Sorvete\")\n",
        "    total = total + 13\n",
        "else:\n",
        "    print(\"Opção inválida\")\n",
        "\n",
        "print(\"\"\" ****** CARDÁPIO - BEBIDAS *****\n",
        "    1 - Suco - R$ 10,00\n",
        "    2 - Água - R$ 5,00\n",
        "    3 - Cerveja - R$ 10,00\n",
        "    4 - Refri - R$ 55,00\n",
        "\"\"\")\n",
        "pedido = input(\"Qual o seu pedido: \")\n",
        "\n",
        "if pedido == \"1\":\n",
        "   print(\"Você selecionou Suco\")\n",
        "   total = total + 10\n",
        "elif pedido == \"2\":\n",
        "    print(\"Você selecionou Água\")\n",
        "    total = total + 5\n",
        "elif pedido == \"3\":\n",
        "    print(\"Você selecionou Cerveja\")\n",
        "    total = total + 10\n",
        "elif pedido == \"4\":\n",
        "    print(\"Você selecionou Refri\")\n",
        "    total = total + 55\n",
        "else:\n",
        "    print(\"Opção inválida\")\n",
        "\n",
        "print('Seu pedido foi de R$ {:.2f}'.format(total))"
      ],
      "metadata": {
        "colab": {
          "base_uri": "https://localhost:8080/"
        },
        "id": "-1D06XCffimN",
        "outputId": "f5a77804-2520-4914-dc55-c49f3c716a15"
      },
      "execution_count": null,
      "outputs": [
        {
          "output_type": "stream",
          "name": "stdout",
          "text": [
            " ****** CARDÁPIO - PRATOS SALGADOS *****\n",
            "    1 - Hamburguer - R$ 15,00\n",
            "    2 - Dogão - R$ 10,00\n",
            "    3 - Pizza - R$ 70,00\n",
            "    4 - Esfirra - R$ 5,00\n",
            "\n",
            "Qual o seu pedido: 2\n",
            "Você selecionou Dogão\n",
            " ****** CARDÁPIO - PRATOS DOCES *****\n",
            "    1 - Musse de limão - R$ 10,00\n",
            "    2 - Torta de chocolate - R$ 25,00\n",
            "    3 - Bolo de Nutella - R$ 35,00\n",
            "    4 - Sorvete - R$ 13,00\n",
            "\n",
            "Qual o seu pedido: 1\n",
            "Você selecionou Musse de limão\n",
            " ****** CARDÁPIO - BEBIDAS *****\n",
            "    1 - Suco - R$ 10,00\n",
            "    2 - Água - R$ 5,00\n",
            "    3 - Cerveja - R$ 10,00\n",
            "    4 - Refri - R$ 55,00\n",
            "\n",
            "Qual o seu pedido: 1\n",
            "Você selecionou Suco\n",
            "Seu pedido foi de R$ 30.00\n"
          ]
        }
      ]
    },
    {
      "cell_type": "code",
      "source": [
        "# Calculadora de Peso Ideal\n",
        "\n",
        "# Declarar a entrada da Altura\n",
        "altura = float(input(\"Informe sua altura: \"))\n",
        "\n",
        "# Declarar a entrada do Peso\n",
        "peso = float(input(\"Informe seu peso: \"))\n",
        "\n",
        "# Declarar a entrada do Sexo Biológico\n",
        "sexo = input(\"M - Masculino e F - Feminino: \").casefold()\n",
        "\n",
        "# Declaração de if para calcular peso ideal\n",
        "if (sexo == \"m\"):\n",
        "  peso_ideal = 72.7 * altura - 50\n",
        "\n",
        "# Declaração de elif para calcular peso ideal\n",
        "elif(sexo == \"f\"):\n",
        "  peso_ideal = 62.1 * altura - 44.7\n",
        "\n",
        "# Declaração else\n",
        "else:\n",
        "    print(\"Errou\")\n",
        "\n",
        "# Calcular diferença entre peso ideal e peso atual\n",
        "diferença = peso - peso_ideal\n",
        "\n",
        "# Declaração de if para acima do peso - A devolutiva para o usuário vem dentro do if\n",
        "if diferença > 0:\n",
        "    print(\"Você está acima do peso ideal, vamos malhar esse corpo!\")\n",
        "\n",
        "# Declaração de elif para abaixo do peso - A devolutiva para o usuário vem dentro do elif\n",
        "elif diferença < 0:\n",
        "      print(\"Muito bem, está magrinho...Vai comer alguma coisa\")\n",
        "\n",
        "# Declaração de else - A devolutiva para o usuário vem dentro do else\n",
        "else:\n",
        "    print(\"Parabéns, você conseguiu ficar no peso certo\")"
      ],
      "metadata": {
        "colab": {
          "base_uri": "https://localhost:8080/"
        },
        "id": "WgzShBDJ2dlo",
        "outputId": "2953856d-6f12-46ad-d396-e3cc47196d4d"
      },
      "execution_count": null,
      "outputs": [
        {
          "output_type": "stream",
          "name": "stdout",
          "text": [
            "Informe sua altura: 170\n",
            "Informe seu peso: 65\n",
            "M - Masculino e F - Feminino: M\n",
            "Muito bem, está magrinho...Vai comer alguma coisa\n"
          ]
        }
      ]
    },
    {
      "cell_type": "code",
      "source": [
        "# É triangulo ou Não é triângulo?\n",
        "\n",
        "# Declaração do primeiro segmento\n",
        "\n",
        "# Declaração do segundo segmento\n",
        "\n",
        "# Declaração do terceiro segmento\n",
        "\n",
        "# Neste if, usar AND para avaliaar se o 1º segmento é o menor\n",
        "\n",
        "# Neste elif, usar AND para avaliaar se o 2º segmento é o maior\n",
        "\n",
        "# Neste elif, usar AND para avaliar se o 3º segmento é o maior\n",
        "\n",
        "# Else para possíveis erros de digitação\n",
        "\n",
        "# Verificação se é triângulo e informar ao usuário."
      ],
      "metadata": {
        "id": "vjLBabYg6Y-b"
      },
      "execution_count": null,
      "outputs": []
    },
    {
      "cell_type": "markdown",
      "source": [
        "*DESAFIO*\n",
        "\n",
        "Um posto de gasolina está vendendo combustíveis com a seguinte tabela de descontos: Gasolina:\n",
        "\n",
        "Até 20 litros: desconto de 4% por litro\n",
        "Acima de 20 litros: desconto de 6% por litro\n",
        "\n",
        "Álcool:\n",
        "\n",
        "Até 20 litros: desconto de 3% por litro\n",
        "Acima de 20 litros: desconto de 5% por litro\n",
        "\n",
        "Escreva um programa que leia o tipo de combustível (A - Álcool e G - Gasolina), calcule e imprima o valor a ser pago pelo cliente.\n",
        "\n",
        "PARA TORNAR O DESAFIO INTERESSANTE, VAMOS FAZER O PROGRAMA CRIAR UM NÚMERO ALEATÓRIO PARA O ABASTECIMENTO. ESTE NÚMERO DEVERÁ SER ENTRE 1 E 52"
      ],
      "metadata": {
        "id": "PZ1Gcrfc78d8"
      }
    },
    {
      "cell_type": "code",
      "source": [
        "from random import randint\n",
        "\n",
        "qtd_litros = randint(1,52)\n",
        "gas_value = 5.50\n",
        "alc_value = 4.80\n",
        "\n",
        "tipo = input('Informe \"A\" - álcool ou \"G\" - gasolina:\\n').casefold()\n",
        "print(\"------------------------------------\")\n",
        "\n",
        "if tipo == \"a\":\n",
        "    print(\"Você abasteceu seu automóvel com {} litros de {}\".format(qtd_litros, tipo))\n",
        "    if qtd_litros <= 20:\n",
        "        total = qtd_litros * alc_value * (1 - 0.3)\n",
        "        print('Total a pagar de R$ {:.2f}'.format(total))\n",
        "    else:\n",
        "        total = qtd_litros * alc_value * (1 - .05)\n",
        "        print('Total a pagar de R$ {:.2f}'.format(total))\n",
        "elif tipo == \"g\":\n",
        "    print(\"Você abasteceu seu automóvel com {} litros de {}\".format(qtd_litros, tipo))\n",
        "    if qtd_litros <= 20:\n",
        "        total = qtd_litros * gas_value * (1 - .04)\n",
        "        print('Total a pagar de R$ {:.2f}'.format(total))\n",
        "    else:\n",
        "        total = qtd_litros * gas_value * (1 - .06)\n",
        "        print('Total a pagar de R$ {:.2f}'.format(total))\n",
        "else:\n",
        "    print(\"Opção Inválida\")"
      ],
      "metadata": {
        "colab": {
          "base_uri": "https://localhost:8080/"
        },
        "id": "z7heVxkr8Bg8",
        "outputId": "f68e0c09-1596-4a3c-f797-f5f3415b279b"
      },
      "execution_count": null,
      "outputs": [
        {
          "output_type": "stream",
          "name": "stdout",
          "text": [
            "Informe \"A\" - álcool ou \"G\" - gasolina:\n",
            "g\n",
            "------------------------------------\n",
            "Você abasteceu seu automóvel com 15 litros de g\n",
            "Total a pagar de R$ 79.20\n"
          ]
        }
      ]
    },
    {
      "cell_type": "code",
      "source": [
        "# Vamos a um caso mais real...\n",
        "# Meta de vendas: 50.000 unidades.\n",
        "# Usuário vai informar quantas unidades do produto foram vendidas.\n",
        "\n",
        "# Se a meta não for atingida, o programa deverá informar que a meta não foi atingida e ninguém recebe bonus.\n",
        "# Se a meta for atingida com menos de 500 unidades de diferença, o programa informa que a meta foi atingida e que os vendedores ganharão 5% de bonus.\n",
        "# Se a meta for ultrapassada em mais de 500 unidades, os vendedores receberão bonus de 15%.\n",
        "\n",
        "montante = int(input(\"Insira o montante: \"))\n",
        "if montante > 50500:\n",
        "    print(\"atingiu bonus de 15%\")\n",
        "elif montante == 50500:\n",
        "    print(\"atingiu bonus de 5%\")\n",
        "else: \n",
        "    print(\"nao atingiu\")"
      ],
      "metadata": {
        "colab": {
          "base_uri": "https://localhost:8080/"
        },
        "id": "grEx-UGYuC4o",
        "outputId": "c64eb956-c4ae-45e5-9fe8-5e0b99f5929e"
      },
      "execution_count": null,
      "outputs": [
        {
          "output_type": "stream",
          "name": "stdout",
          "text": [
            "Insira o montante: 50600\n",
            "atingiu bonus de 15%\n"
          ]
        }
      ]
    }
  ]
}