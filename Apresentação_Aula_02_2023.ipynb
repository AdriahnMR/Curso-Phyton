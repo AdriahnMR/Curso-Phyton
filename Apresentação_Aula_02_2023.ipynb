{
  "nbformat": 4,
  "nbformat_minor": 0,
  "metadata": {
    "colab": {
      "provenance": [],
      "authorship_tag": "ABX9TyPuw6rrUlcC9HG8wZ9bZK1K",
      "include_colab_link": true
    },
    "kernelspec": {
      "name": "python3",
      "display_name": "Python 3"
    },
    "language_info": {
      "name": "python"
    }
  },
  "cells": [
    {
      "cell_type": "markdown",
      "metadata": {
        "id": "view-in-github",
        "colab_type": "text"
      },
      "source": [
        "<a href=\"https://colab.research.google.com/github/AdriahnMR/Curso-Phyton/blob/main/Apresenta%C3%A7%C3%A3o_Aula_02_2023.ipynb\" target=\"_parent\"><img src=\"https://colab.research.google.com/assets/colab-badge.svg\" alt=\"Open In Colab\"/></a>"
      ]
    },
    {
      "cell_type": "markdown",
      "source": [
        "*Segunda aula de Phyton*\n",
        "\n",
        "Autor: Adriahn Moura Roque\n",
        "\n",
        "Data: 29/03/2023\n"
      ],
      "metadata": {
        "id": "jkgI2PTmUlpN"
      }
    },
    {
      "cell_type": "markdown",
      "source": [
        "*Operadores Lógicos*"
      ],
      "metadata": {
        "id": "a9QjatCXU8bV"
      }
    },
    {
      "cell_type": "code",
      "source": [
        "# Operadores Relacionais\n",
        "# Operador de igualdade (==)\n",
        "\n",
        "# Colocar 7 == 7, verificar a resposta na execussão do programa;\n",
        "print(7 == 7)\n",
        "\n",
        "# Colocar 7 == 5, verificar a resposta na execussão do programa;\n",
        "print( 7 == 5)"
      ],
      "metadata": {
        "colab": {
          "base_uri": "https://localhost:8080/"
        },
        "id": "JY2wdRCzU_EO",
        "outputId": "a81bf9ff-24fe-4e5e-9614-57a00dce1c96"
      },
      "execution_count": null,
      "outputs": [
        {
          "output_type": "stream",
          "name": "stdout",
          "text": [
            "True\n",
            "False\n"
          ]
        }
      ]
    },
    {
      "cell_type": "code",
      "source": [
        "# Operadores menor que (<) e maior que (>)\n",
        "\n",
        "# Colocar 7 < 7, verificar a resposta na execussão do programa;\n",
        "print( 7 < 7) # False\n",
        "\n",
        "# Colocar 7 < 10, verificar a resposta na execussão do programa;\n",
        "print( 7 < 10) # True\n",
        "\n",
        "# Colocar 7 > 7, verificar a resposta na execussão do programa;\n",
        "print ( 7 > 7) #False\n",
        "\n",
        "# Colocar 7 > 5, verificar a resposta na execussão do programa;\n",
        "print ( 7 > 5) #True\n"
      ],
      "metadata": {
        "colab": {
          "base_uri": "https://localhost:8080/"
        },
        "id": "1Gx7yeqMV2qG",
        "outputId": "6e055583-690b-42fa-a879-3fb38712b714"
      },
      "execution_count": null,
      "outputs": [
        {
          "output_type": "stream",
          "name": "stdout",
          "text": [
            "False\n",
            "True\n",
            "False\n",
            "True\n"
          ]
        }
      ]
    },
    {
      "cell_type": "code",
      "source": [
        "# Operadores menor ou igual que (<) e maior ou igual que (>)\n",
        "\n",
        "# Colocar 7 <= 7, verificar a resposta na execussão do programa;\n",
        "print( 7 <= 7) #True porque é igual\n",
        "\n",
        "# Colocar 7 <= 10, verificar a resposta na execussão do programa;\n",
        "print( 7 <= 10) #True\n",
        "\n",
        "# Colocar 7 >= 7, verificar a resposta na execussão do programa;\n",
        "print( 7 >= 7) #True porque é igual\n",
        "\n",
        "# Colocar 7 >= 5, verificar a resposta na execussão do programa;\n",
        "print( 7 >= 5) #True\n"
      ],
      "metadata": {
        "colab": {
          "base_uri": "https://localhost:8080/"
        },
        "id": "tRley8kVW-Qe",
        "outputId": "e210cef9-301f-480f-ea3f-1349e0da0bb9"
      },
      "execution_count": null,
      "outputs": [
        {
          "output_type": "stream",
          "name": "stdout",
          "text": [
            "True\n",
            "True\n",
            "True\n",
            "True\n"
          ]
        }
      ]
    },
    {
      "cell_type": "code",
      "source": [
        "# Operador de diferente (!=) ou ! => Operador de negação\n",
        "\n",
        "# Colocar 7 != 7, verificar a resposta na execussão do programa;\n",
        "print(7 != 7) # False\n",
        "\n",
        "# Colocar 7 != 5, verificar a resposta na execussão do programa;\n",
        "print(7 != 5) # True"
      ],
      "metadata": {
        "colab": {
          "base_uri": "https://localhost:8080/"
        },
        "id": "61jWQ86mYNxn",
        "outputId": "0f751ef3-2f51-43c5-b99a-e8ae9c50ee32"
      },
      "execution_count": null,
      "outputs": [
        {
          "output_type": "stream",
          "name": "stdout",
          "text": [
            "False\n",
            "True\n"
          ]
        }
      ]
    },
    {
      "cell_type": "markdown",
      "source": [
        "*Tabelas Verdade*"
      ],
      "metadata": {
        "id": "ijmUs6o7Zv5P"
      }
    },
    {
      "cell_type": "code",
      "source": [
        "# Tabela do E (AND)\n",
        "\n",
        "print(\"|   A\\t|   B\\t| SAÍDA |\")\n",
        "print(\"|\",False,\"|\",False,\"|\",False and False,\"|\")\n",
        "print(\"|\",True,\"\\t|\",False,\"|\",True and False,\"|\")\n",
        "print(\"|\",False,\"|\",True,\"\\t|\",False and True,\"|\")\n",
        "print(\"|\",True,\"\\t|\",True,\"\\t|\",True and True,\"\\t|\")"
      ],
      "metadata": {
        "colab": {
          "base_uri": "https://localhost:8080/"
        },
        "id": "jQKAvwI3ZyYu",
        "outputId": "e54276e6-404a-4ea7-afb3-393a35ee05f9"
      },
      "execution_count": 2,
      "outputs": [
        {
          "output_type": "stream",
          "name": "stdout",
          "text": [
            "|   A\t|   B\t| SAÍDA |\n",
            "| False | False | False |\n",
            "| True \t| False | False |\n",
            "| False | True \t| False |\n",
            "| True \t| True \t| True \t|\n"
          ]
        }
      ]
    },
    {
      "cell_type": "code",
      "source": [
        "# EXEMPLO: Verificar se uma idade é maior do que a 17 E menor do que 71.\n",
        "\n",
        "idade = int(input(\"Idade: \"))\n",
        "print(idade > 17 and idade < 71)"
      ],
      "metadata": {
        "colab": {
          "base_uri": "https://localhost:8080/"
        },
        "id": "wY6dxxRRlKCw",
        "outputId": "637b0489-6f77-4abd-ec3a-bc551ccdc38a"
      },
      "execution_count": 4,
      "outputs": [
        {
          "output_type": "stream",
          "name": "stdout",
          "text": [
            "Idade: 23\n",
            "True\n"
          ]
        }
      ]
    },
    {
      "cell_type": "code",
      "source": [
        "# Tabela do OU (OR)\n",
        "\n",
        "print(\"|   A\\t|   B\\t| SAÍDA |\")\n",
        "print(\"|\",False,\"|\",False,\"|\",False or False,\"|\")\n",
        "print(\"|\",True,\"\\t|\",False,\"|\",True or False,\" |\")\n",
        "print(\"|\",False,\"|\",True,\"\\t|\",False or True,\" |\")\n",
        "print(\"|\",True,\"\\t|\",True,\"\\t|\",True or True,\" |\")"
      ],
      "metadata": {
        "colab": {
          "base_uri": "https://localhost:8080/"
        },
        "id": "YviaHv04lz_K",
        "outputId": "d7ecb266-350e-4405-9995-0b60ed28d04c"
      },
      "execution_count": 6,
      "outputs": [
        {
          "output_type": "stream",
          "name": "stdout",
          "text": [
            "|   A\t|   B\t| SAÍDA |\n",
            "| False | False | False |\n",
            "| True \t| False | True  |\n",
            "| False | True \t| True  |\n",
            "| True \t| True \t| True  |\n"
          ]
        }
      ]
    },
    {
      "cell_type": "code",
      "source": [
        "# EXEMPLO: Verificar se uma idade é menor do que a 18 OU maior do que 70.\n",
        "\n",
        "idade = int(input(\"Idade: \"))\n",
        "print(idade < 18 or idade > 70)"
      ],
      "metadata": {
        "colab": {
          "base_uri": "https://localhost:8080/"
        },
        "id": "0wDjAs2jl_mB",
        "outputId": "87b79acb-fdb7-4d0d-feb2-5c731078f5ec"
      },
      "execution_count": 7,
      "outputs": [
        {
          "output_type": "stream",
          "name": "stdout",
          "text": [
            "Idade: 23\n",
            "False\n"
          ]
        }
      ]
    },
    {
      "cell_type": "code",
      "source": [
        "# Tabela do XOR (^)\n",
        "\n",
        "print(\"|   A\\t|   B\\t| SAÍDA |\")\n",
        "print(\"|\",False,\"|\",False,\"|\",False ^ False,\"|\")\n",
        "print(\"|\",True,\"\\t|\",False,\"|\",True ^ False,\"\\t|\")\n",
        "print(\"|\",False,\"|\",True,\"\\t|\",False ^ True,\"\\t|\")\n",
        "print(\"|\",True,\"\\t|\",True,\"\\t|\",True ^ True,\"|\")"
      ],
      "metadata": {
        "colab": {
          "base_uri": "https://localhost:8080/"
        },
        "id": "Ax09e1qYmX1N",
        "outputId": "f965cdd4-ffa9-4ddc-b6c4-c53f26f37e6f"
      },
      "execution_count": 9,
      "outputs": [
        {
          "output_type": "stream",
          "name": "stdout",
          "text": [
            "|   A\t|   B\t| SAÍDA |\n",
            "| False | False | False |\n",
            "| True \t| False | True \t|\n",
            "| False | True \t| True \t|\n",
            "| True \t| True \t| False |\n"
          ]
        }
      ]
    },
    {
      "cell_type": "code",
      "source": [
        "# Tabela de Negação (not)\n",
        "\n",
        "print(\"|   A\\t| Não A |\")\n",
        "print(\"|\",False,\"|\",not False,\"\\t|\")\n",
        "print(\"|\",True,\"\\t|\",not True,\"|\")"
      ],
      "metadata": {
        "colab": {
          "base_uri": "https://localhost:8080/"
        },
        "id": "CXfDsMkKnUJU",
        "outputId": "0895d180-7368-4ec8-e9bd-8f0f5ce1ed11"
      },
      "execution_count": 10,
      "outputs": [
        {
          "output_type": "stream",
          "name": "stdout",
          "text": [
            "|   A\t| Não A |\n",
            "| False | True \t|\n",
            "| True \t| False |\n"
          ]
        }
      ]
    },
    {
      "cell_type": "markdown",
      "source": [
        "*Condicionais*"
      ],
      "metadata": {
        "id": "9sHaiqyzpEx7"
      }
    },
    {
      "cell_type": "code",
      "source": [
        "# Condição SE (IF)\n",
        "\n",
        "n = 2 \n",
        "if n == 2: \n",
        "    print(\"{} igual a 2\".format(n))\n",
        "    print(\"Eu\")"
      ],
      "metadata": {
        "colab": {
          "base_uri": "https://localhost:8080/"
        },
        "id": "xVxsKePBpMTC",
        "outputId": "a25e6530-5015-43ac-d489-4833bb8a33dd"
      },
      "execution_count": 22,
      "outputs": [
        {
          "output_type": "stream",
          "name": "stdout",
          "text": [
            "2 igual a 2\n",
            "Eu\n"
          ]
        }
      ]
    },
    {
      "cell_type": "code",
      "source": [
        "# Condição SENÃO (ELSE)\n",
        "\n",
        "n = 3\n",
        "if n == 2:\n",
        "    print(\"{} igual a 2\".format(n)) \n",
        "else:\n",
        "    print(\"{} diferente a 2\".format(n))"
      ],
      "metadata": {
        "colab": {
          "base_uri": "https://localhost:8080/"
        },
        "id": "_jVX6lAesQ7N",
        "outputId": "a09ccb1e-ca20-4f23-a183-00dc3761fec8"
      },
      "execution_count": 26,
      "outputs": [
        {
          "output_type": "stream",
          "name": "stdout",
          "text": [
            "3 diferente a 2\n"
          ]
        }
      ]
    },
    {
      "cell_type": "code",
      "source": [
        "# Condição SENÃO SE (ELIF)\n",
        "\n",
        "n = 3\n",
        "if n == 2:\n",
        "  print(\"{} é igual a 2\".format(n))\n",
        "\n",
        "elif n == 3:\n",
        "    print(\"{} é igual a 3\".format(n))\n",
        "\n",
        "else:\n",
        "    print(\"{} é diferente de 2 e de 3\".format(n))"
      ],
      "metadata": {
        "colab": {
          "base_uri": "https://localhost:8080/"
        },
        "id": "Py9O5Lfbt-Qu",
        "outputId": "cf2af70d-0612-4803-d392-48e0976c72a2"
      },
      "execution_count": 34,
      "outputs": [
        {
          "output_type": "stream",
          "name": "stdout",
          "text": [
            "3 é igual a 3\n"
          ]
        }
      ]
    },
    {
      "cell_type": "markdown",
      "source": [
        "*Exercícios*"
      ],
      "metadata": {
        "id": "pgK3z3FxGMB1"
      }
    },
    {
      "cell_type": "code",
      "source": [
        "# Caluladora de Peso Ideal\n",
        "\n",
        "# Declarar a entrada da Altura\n",
        "\n",
        "altura = float (input(\"Digite sua altura em metros: \"))\n",
        "\n",
        "# Declarar a entrada do Peso\n",
        "\n",
        "peso = float(input(\"Digite seu peso em quilos: \"))\n",
        "\n",
        "# Declarar a entrada do Sexo Biológico\n",
        "\n",
        "sexo = input(\"Digite seu sexo (Masculino ou Feminino): \")\n",
        "\n",
        "# Declaração de if para calcular peso ideal\n",
        "\n",
        "if sexo.upper() == \"Masculino\":\n",
        "    peso_ideal = (72.7 * altura) - 50\n",
        "elif sexo.upper() == \"Feminino\":\n",
        "    peso_ideal = (62.1 * altura) - 44.7\n",
        "else:\n",
        "  print(\"Sexo Inválido!\")\n",
        "  exit()\n",
        "\n",
        "# Imprime o peso ideal calculado\n",
        "  \n",
        "print(\"Seu peso ideal é: \", peso_ideal, \"Quilos\")\n",
        "\n",
        "# Verifica se o peso atual do usuário é maior, igual ou menor que o peso ideal e imprime a mensagem apropriada\n",
        "\n",
        "if peso > peso_ideal:\n",
        "    diferença = peso - peso_ideal\n",
        "    print(\"Frase motivacional: O corpo atinge o que a mente acredita!\")\n",
        "elif peso == peso_ideal:\n",
        "    print(\"Parabéns por estar no peso ideal!\")\n",
        "    print(\"Frase motivacional: Seja forte, mantenha seu peso ideal!\")\n",
        "else:\n",
        "  diferença = peso_ideal - peso\n",
        "  print(\"Você precisa ganhar mais peso\", diferença, \"Quilos a serem atingidos para seu peso ideal\")\n",
        "  print(\"Frase de alerta: Cuidado, estar abaixo do peso ideal pode trazer consequências a sua saúde\")"
      ],
      "metadata": {
        "colab": {
          "base_uri": "https://localhost:8080/",
          "height": 304
        },
        "id": "gN1aIlD6JPd6",
        "outputId": "c5006f4f-ce11-49d1-f361-8dffdcfd3274"
      },
      "execution_count": 1,
      "outputs": [
        {
          "output_type": "stream",
          "name": "stdout",
          "text": [
            "Digite sua altura em metros: 180\n",
            "Digite seu peso em quilos: 50\n",
            "Digite seu sexo (Masculino ou Feminino): Masculino\n",
            "Sexo Inválido!\n"
          ]
        },
        {
          "output_type": "error",
          "ename": "NameError",
          "evalue": "ignored",
          "traceback": [
            "\u001b[0;31m---------------------------------------------------------------------------\u001b[0m",
            "\u001b[0;31mNameError\u001b[0m                                 Traceback (most recent call last)",
            "\u001b[0;32m<ipython-input-1-89fe01523ebc>\u001b[0m in \u001b[0;36m<cell line: 27>\u001b[0;34m()\u001b[0m\n\u001b[1;32m     25\u001b[0m \u001b[0;31m# Imprime o peso ideal calculado\u001b[0m\u001b[0;34m\u001b[0m\u001b[0;34m\u001b[0m\u001b[0m\n\u001b[1;32m     26\u001b[0m \u001b[0;34m\u001b[0m\u001b[0m\n\u001b[0;32m---> 27\u001b[0;31m \u001b[0mprint\u001b[0m\u001b[0;34m(\u001b[0m\u001b[0;34m\"Seu peso ideal é: \"\u001b[0m\u001b[0;34m,\u001b[0m \u001b[0mpeso_ideal\u001b[0m\u001b[0;34m,\u001b[0m \u001b[0;34m\"Quilos\"\u001b[0m\u001b[0;34m)\u001b[0m\u001b[0;34m\u001b[0m\u001b[0;34m\u001b[0m\u001b[0m\n\u001b[0m\u001b[1;32m     28\u001b[0m \u001b[0;34m\u001b[0m\u001b[0m\n\u001b[1;32m     29\u001b[0m \u001b[0;31m# Verifica se o peso atual do usuário é maior, igual ou menor que o peso ideal e imprime a mensagem apropriada\u001b[0m\u001b[0;34m\u001b[0m\u001b[0;34m\u001b[0m\u001b[0m\n",
            "\u001b[0;31mNameError\u001b[0m: name 'peso_ideal' is not defined"
          ]
        }
      ]
    }
  ]
}