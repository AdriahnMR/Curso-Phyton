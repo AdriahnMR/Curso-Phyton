{
  "nbformat": 4,
  "nbformat_minor": 0,
  "metadata": {
    "colab": {
      "provenance": [],
      "authorship_tag": "ABX9TyNhWTwvBPLbfeRUuQVSOsEe",
      "include_colab_link": true
    },
    "kernelspec": {
      "name": "python3",
      "display_name": "Python 3"
    },
    "language_info": {
      "name": "python"
    }
  },
  "cells": [
    {
      "cell_type": "markdown",
      "metadata": {
        "id": "view-in-github",
        "colab_type": "text"
      },
      "source": [
        "<a href=\"https://colab.research.google.com/github/AdriahnMR/Curso-Phyton/blob/main/Apresenta%C3%A7%C3%A3o_Aula_02_2023.ipynb\" target=\"_parent\"><img src=\"https://colab.research.google.com/assets/colab-badge.svg\" alt=\"Open In Colab\"/></a>"
      ]
    },
    {
      "cell_type": "markdown",
      "source": [
        "*Segunda aula de Phyton*\n",
        "\n",
        "Autor: Adriahn Moura Roque\n",
        "\n",
        "Data: 29/03/2023\n"
      ],
      "metadata": {
        "id": "jkgI2PTmUlpN"
      }
    },
    {
      "cell_type": "markdown",
      "source": [
        "*Operadores Lógicos*"
      ],
      "metadata": {
        "id": "a9QjatCXU8bV"
      }
    },
    {
      "cell_type": "code",
      "source": [
        "# Operadores Relacionais\n",
        "# Operador de igualdade (==)\n",
        "\n",
        "# Colocar 7 == 7, verificar a resposta na execussão do programa;\n",
        "print(7 == 7)\n",
        "\n",
        "# Colocar 7 == 5, verificar a resposta na execussão do programa;\n",
        "print( 7 == 5)"
      ],
      "metadata": {
        "colab": {
          "base_uri": "https://localhost:8080/"
        },
        "id": "JY2wdRCzU_EO",
        "outputId": "a81bf9ff-24fe-4e5e-9614-57a00dce1c96"
      },
      "execution_count": 1,
      "outputs": [
        {
          "output_type": "stream",
          "name": "stdout",
          "text": [
            "True\n",
            "False\n"
          ]
        }
      ]
    },
    {
      "cell_type": "code",
      "source": [
        "# Operadores menor que (<) e maior que (>)\n",
        "\n",
        "# Colocar 7 < 7, verificar a resposta na execussão do programa;\n",
        "print( 7 < 7) # False\n",
        "\n",
        "# Colocar 7 < 10, verificar a resposta na execussão do programa;\n",
        "print( 7 < 10) # True\n",
        "\n",
        "# Colocar 7 > 7, verificar a resposta na execussão do programa;\n",
        "print ( 7 > 7) #False\n",
        "\n",
        "# Colocar 7 > 5, verificar a resposta na execussão do programa;\n",
        "print ( 7 > 5) #True\n"
      ],
      "metadata": {
        "colab": {
          "base_uri": "https://localhost:8080/"
        },
        "id": "1Gx7yeqMV2qG",
        "outputId": "6e055583-690b-42fa-a879-3fb38712b714"
      },
      "execution_count": 3,
      "outputs": [
        {
          "output_type": "stream",
          "name": "stdout",
          "text": [
            "False\n",
            "True\n",
            "False\n",
            "True\n"
          ]
        }
      ]
    },
    {
      "cell_type": "code",
      "source": [
        "# Operadores menor ou igual que (<) e maior ou igual que (>)\n",
        "\n",
        "# Colocar 7 <= 7, verificar a resposta na execussão do programa;\n",
        "print( 7 <= 7) #True porque é igual\n",
        "\n",
        "# Colocar 7 <= 10, verificar a resposta na execussão do programa;\n",
        "print( 7 <= 10) #True\n",
        "\n",
        "# Colocar 7 >= 7, verificar a resposta na execussão do programa;\n",
        "print( 7 >= 7) #True porque é igual\n",
        "\n",
        "# Colocar 7 >= 5, verificar a resposta na execussão do programa;\n",
        "print( 7 >= 5) #True\n"
      ],
      "metadata": {
        "colab": {
          "base_uri": "https://localhost:8080/"
        },
        "id": "tRley8kVW-Qe",
        "outputId": "e210cef9-301f-480f-ea3f-1349e0da0bb9"
      },
      "execution_count": 5,
      "outputs": [
        {
          "output_type": "stream",
          "name": "stdout",
          "text": [
            "True\n",
            "True\n",
            "True\n",
            "True\n"
          ]
        }
      ]
    },
    {
      "cell_type": "code",
      "source": [
        "# Operador de diferente (!=) ou ! => Operador de negação\n",
        "\n",
        "# Colocar 7 != 7, verificar a resposta na execussão do programa;\n",
        "print(7 != 7) # False\n",
        "\n",
        "# Colocar 7 != 5, verificar a resposta na execussão do programa;\n",
        "print(7 != 5) # True"
      ],
      "metadata": {
        "colab": {
          "base_uri": "https://localhost:8080/"
        },
        "id": "61jWQ86mYNxn",
        "outputId": "0f751ef3-2f51-43c5-b99a-e8ae9c50ee32"
      },
      "execution_count": 8,
      "outputs": [
        {
          "output_type": "stream",
          "name": "stdout",
          "text": [
            "False\n",
            "True\n"
          ]
        }
      ]
    },
    {
      "cell_type": "markdown",
      "source": [
        "*Tabelas Verdade*"
      ],
      "metadata": {
        "id": "ijmUs6o7Zv5P"
      }
    },
    {
      "cell_type": "code",
      "source": [
        "# Tabela do E (AND)\n",
        "\n",
        "print(\"|   A\\t|   B\\t| SAÍDA |\")\n",
        "print(\"|\",False,\"|\",False,\"|\",False and False,\"|\")\n",
        "print(\"|\",True,\"\\t|\",False,\"|\",True and False,\"|\")\n",
        "print(\"|\",False,\"|\",True,\"\\t|\",False and True,\"|\")\n",
        "print(\"|\",True,\"\\t|\",True,\"\\t|\",True and True,\"\\t|\")"
      ],
      "metadata": {
        "colab": {
          "base_uri": "https://localhost:8080/"
        },
        "id": "jQKAvwI3ZyYu",
        "outputId": "fc4d71c9-8a84-4304-b53b-e3c1f9266e36"
      },
      "execution_count": 10,
      "outputs": [
        {
          "output_type": "stream",
          "name": "stdout",
          "text": [
            "|   A\t|   B\t| SAÍDA |\n",
            "| False | False | False |\n",
            "| True \t| False | False |\n",
            "| False | True \t| False |\n",
            "| True \t| True \t| True \t|\n"
          ]
        }
      ]
    }
  ]
}