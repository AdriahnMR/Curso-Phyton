{
  "nbformat": 4,
  "nbformat_minor": 0,
  "metadata": {
    "colab": {
      "provenance": [],
      "authorship_tag": "ABX9TyNKBM2jtUGPZACN2JLW2dS5",
      "include_colab_link": true
    },
    "kernelspec": {
      "name": "python3",
      "display_name": "Python 3"
    },
    "language_info": {
      "name": "python"
    }
  },
  "cells": [
    {
      "cell_type": "markdown",
      "metadata": {
        "id": "view-in-github",
        "colab_type": "text"
      },
      "source": [
        "<a href=\"https://colab.research.google.com/github/AdriahnMR/Curso-Phyton/blob/main/Apresenta%C3%A7%C3%A3o_Aula_01.ipynb\" target=\"_parent\"><img src=\"https://colab.research.google.com/assets/colab-badge.svg\" alt=\"Open In Colab\"/></a>"
      ]
    },
    {
      "cell_type": "markdown",
      "source": [
        "*Primeira aula de Phyton*\n",
        "\n",
        "Autor: Adriahn Moura Roque\n",
        "\n",
        "Data: 22/03/2023\n"
      ],
      "metadata": {
        "id": "aQlTbx39R8Jf"
      }
    },
    {
      "cell_type": "code",
      "source": [
        "#Fazendo um programa que escreve na tela Olá Mundo!\n",
        "print (\"Olá mundo!\")"
      ],
      "metadata": {
        "colab": {
          "base_uri": "https://localhost:8080/"
        },
        "id": "7iFNOjncVP0L",
        "outputId": "bf996bc7-bf83-42a9-fae8-835625edf040"
      },
      "execution_count": 10,
      "outputs": [
        {
          "output_type": "stream",
          "name": "stdout",
          "text": [
            "Olá mundo!\n"
          ]
        }
      ]
    },
    {
      "cell_type": "code",
      "source": [
        "#Relacionando informações\n",
        "\n",
        "# Texto com booleano\n",
        "# Textos longos, com mais de uma linha\n",
        "# Imprimir a mensagem \n",
        "#     \"Professor, você é muito legal\"\n",
        "# Mas o muito deve ser repetido 25 vezes.\n",
        "\n",
        "'''\n",
        "Comentário com \n",
        "várias linhas \n",
        "'''\n",
        "# Texto e números\n",
        "print(\"Idade: \", 41)\n",
        "\n",
        "# Texto com booleano\n",
        "print(\"Cerveja:\", True)\n",
        "\n",
        "# Textos longos, com mais de uma linha\n",
        "print('''Cardapio:\n",
        "    1 - Hamburguer\n",
        "    2 - Pizza\n",
        "    3 - Dogão\n",
        "    4 - Refri ''')\n",
        "\n",
        "# Imprimir a mensagem \n",
        "#     \"Professor, você é muito legal\"\n",
        "# Mas o muito deve ser repetido 25 vezes.\n",
        "print(\"Professor, você é \", 25*\"muito \", \"legal\")"
      ],
      "metadata": {
        "colab": {
          "base_uri": "https://localhost:8080/"
        },
        "id": "tOtP4FMIV-H3",
        "outputId": "6adbacd5-ae19-4c6b-9f8d-bcf508919ad0"
      },
      "execution_count": 11,
      "outputs": [
        {
          "output_type": "stream",
          "name": "stdout",
          "text": [
            "Idade:  41\n",
            "Cerveja: True\n",
            "Cardapio:\n",
            "    1 - Hamburguer\n",
            "    2 - Pizza\n",
            "    3 - Dogão\n",
            "    4 - Refri \n",
            "Professor, você é  muito muito muito muito muito muito muito muito muito muito muito muito muito muito muito muito muito muito muito muito muito muito muito muito muito  legal\n"
          ]
        }
      ]
    },
    {
      "cell_type": "code",
      "source": [
        "#Número Inteiro\n",
        "#Número Real\n",
        "\n",
        "a = 2 #inteiro\n",
        "print(a)\n",
        "a = 3.14 #real\n",
        "print(a)\n",
        "a = \"Joao\"\n",
        "print(a)\n",
        "a = list(range(5))\n",
        "print(a)\n",
        "a = {'Nome': 'Joao Felipe',\n",
        "     'Idade': 41,\n",
        "     'Estado Civil': 'Casado'}\n",
        "print(a)"
      ],
      "metadata": {
        "colab": {
          "base_uri": "https://localhost:8080/"
        },
        "id": "6e3Pgnf8tlsP",
        "outputId": "477f922a-0464-4b23-8963-399bebba7a0d"
      },
      "execution_count": 12,
      "outputs": [
        {
          "output_type": "stream",
          "name": "stdout",
          "text": [
            "2\n",
            "3.14\n",
            "Joao\n",
            "[0, 1, 2, 3, 4]\n",
            "{'Nome': 'Joao Felipe', 'Idade': 41, 'Estado Civil': 'Casado'}\n"
          ]
        }
      ]
    },
    {
      "cell_type": "code",
      "source": [
        "#Número Inteiro\n",
        "#Número Real\n",
        "numero = 1\n",
        "print(\"O número digitado foi\", numero)"
      ],
      "metadata": {
        "colab": {
          "base_uri": "https://localhost:8080/"
        },
        "id": "BZ-1Xt_sxzYy",
        "outputId": "26d318d4-9d08-45b6-96f7-1276ceb53ef7"
      },
      "execution_count": 13,
      "outputs": [
        {
          "output_type": "stream",
          "name": "stdout",
          "text": [
            "O número digitado foi 1\n"
          ]
        }
      ]
    },
    {
      "cell_type": "code",
      "source": [
        "#Variáveis\n",
        "ham = 25\n",
        "pizza = 50\n",
        "dogão = 15\n",
        "refri = 10\n",
        "print('''Cardapio:\n",
        "    1 - Hamburguer {}\n",
        "    2 - Pizza {}\n",
        "    3 - Dogão {}\n",
        "    4 - Refri {} '''.format(ham,pizza,dogão,refri))"
      ],
      "metadata": {
        "colab": {
          "base_uri": "https://localhost:8080/"
        },
        "id": "C9u50B6hZbN4",
        "outputId": "c0b78ae2-c355-448b-ea29-6a49f6837d4a"
      },
      "execution_count": 14,
      "outputs": [
        {
          "output_type": "stream",
          "name": "stdout",
          "text": [
            "Cardapio:\n",
            "    1 - Hamburguer 25\n",
            "    2 - Pizza 50\n",
            "    3 - Dogão 15\n",
            "    4 - Refri 10 \n"
          ]
        }
      ]
    },
    {
      "cell_type": "code",
      "source": [
        "# EXEMPLO DE COMO SERIA DECLARAR UMA VARIÁVEL NO JAVA\n",
        "'''\n",
        "int ham, pizza, dogao, refri;\n",
        "ham = 25;\n",
        "pizza = 50;\n",
        "dogao = 15;\n",
        "refri = 10\n",
        "\n",
        "System.out.println(\"Cardápio\\n\" + \n",
        "\"1 - Hambúrguer \" + ham = \"\n",
        "...)"
      ],
      "metadata": {
        "colab": {
          "base_uri": "https://localhost:8080/",
          "height": 148
        },
        "id": "0hw9UglnbGk2",
        "outputId": "0531d40d-b6fe-49b2-f027-9360761b85c9"
      },
      "execution_count": 15,
      "outputs": [
        {
          "output_type": "error",
          "ename": "SyntaxError",
          "evalue": "ignored",
          "traceback": [
            "\u001b[0;36m  File \u001b[0;32m\"<ipython-input-15-be003138d1dc>\"\u001b[0;36m, line \u001b[0;32m11\u001b[0m\n\u001b[0;31m    ...)\u001b[0m\n\u001b[0m        \n^\u001b[0m\n\u001b[0;31mSyntaxError\u001b[0m\u001b[0;31m:\u001b[0m EOF while scanning triple-quoted string literal\n"
          ]
        }
      ]
    },
    {
      "cell_type": "code",
      "source": [
        "#Texto e comentário\n",
        "texto1 = 'O Professor João é muito legal.'\n",
        "texto2 = 'Mas é muito legal mesmo.'\n",
        "\n",
        "print(texto1, texto2)"
      ],
      "metadata": {
        "colab": {
          "base_uri": "https://localhost:8080/"
        },
        "id": "bzOdgyQWeT1J",
        "outputId": "d338b933-59c7-42eb-f715-21743851c8b6"
      },
      "execution_count": 17,
      "outputs": [
        {
          "output_type": "stream",
          "name": "stdout",
          "text": [
            "O Professor João é muito legal. Mas é muito legal mesmo.\n"
          ]
        }
      ]
    },
    {
      "cell_type": "code",
      "source": [
        "#Lista\n",
        "\n",
        "#Declarar a Variável tipo lista\n",
        "produtos = ['PS5', 'PS4','PS3']\n",
        "preços = [4800, 2500, 1200]\n",
        "#Imprimir as variáveis na tela (usar .format)\n",
        "print(\"{}: {}\".format(produtos, preços))"
      ],
      "metadata": {
        "colab": {
          "base_uri": "https://localhost:8080/"
        },
        "id": "vuwmwA2Wfl6F",
        "outputId": "40d68a80-88aa-47f4-bb61-bf13cbc12540"
      },
      "execution_count": 16,
      "outputs": [
        {
          "output_type": "stream",
          "name": "stdout",
          "text": [
            "['PS5', 'PS4', 'PS3']: [4800, 2500, 1200]\n"
          ]
        }
      ]
    },
    {
      "cell_type": "code",
      "source": [
        "#Dicionário\n",
        "dic = {\n",
        "    'Nome do usuário': ['Joao Felipe', 'Miguel', 'Amy', 'Ellen', 'Hyago'],\n",
        "    'Login': 'joao.fel',\n",
        "    'senha': 123,\n",
        "    'e-mail': 'joao@joao.com.br',\n",
        "}\n",
        "\n",
        "print(dic)\n"
      ],
      "metadata": {
        "colab": {
          "base_uri": "https://localhost:8080/"
        },
        "id": "6LuazibFiLNr",
        "outputId": "003e1d38-e4e5-4930-e3cb-1837a1c9a2fe"
      },
      "execution_count": 18,
      "outputs": [
        {
          "output_type": "stream",
          "name": "stdout",
          "text": [
            "{'Nome do usuário': ['Joao Felipe', 'Miguel', 'Amy', 'Ellen', 'Hyago'], 'Login': 'joao.fel', 'senha': 123, 'e-mail': 'joao@joao.com.br'}\n"
          ]
        }
      ]
    },
    {
      "cell_type": "code",
      "source": [
        "#Entrada de dados com INPUT()"
      ],
      "metadata": {
        "id": "QpijOW9Gr-EX"
      },
      "execution_count": null,
      "outputs": []
    },
    {
      "cell_type": "code",
      "source": [
        "#Operadores Aritmétricos - Adição\n",
        "\n",
        "# Declarar a primeira variável:\n",
        "print(\"Digite um numero\")\n",
        "num1 = input()\n",
        "# Declarar a segunda variável:\n",
        "print(\"Digite outro numero\")\n",
        "num2 = input()\n",
        "# Fazer a soma da primeira variável com a segunda variável\n",
        "soma  = int(num1) + int(num2)\n",
        "# Imprimir na tela\n",
        "print(\"{} + {} = {}\".format(num1, num2, soma))"
      ],
      "metadata": {
        "colab": {
          "base_uri": "https://localhost:8080/"
        },
        "id": "TBLyyWYHlYwz",
        "outputId": "fed7de63-c758-4e7e-ed54-610000a7cce7"
      },
      "execution_count": 19,
      "outputs": [
        {
          "output_type": "stream",
          "name": "stdout",
          "text": [
            "Digite um numero\n",
            "12\n",
            "Digite outro numero\n",
            "12\n",
            "12 + 12 = 24\n"
          ]
        }
      ]
    },
    {
      "cell_type": "code",
      "source": [
        "#Operadores Aritmétricos - Subtração\n",
        "\n",
        "sub = num1 - num2\n",
        "print(\"{} - {} = {}\".format(num1, num2, sub))\n"
      ],
      "metadata": {
        "colab": {
          "base_uri": "https://localhost:8080/",
          "height": 217
        },
        "id": "gbUpZKh-oIyc",
        "outputId": "0748ad93-79a0-468d-ea14-d3d6b68bbc16"
      },
      "execution_count": 21,
      "outputs": [
        {
          "output_type": "error",
          "ename": "TypeError",
          "evalue": "ignored",
          "traceback": [
            "\u001b[0;31m---------------------------------------------------------------------------\u001b[0m",
            "\u001b[0;31mTypeError\u001b[0m                                 Traceback (most recent call last)",
            "\u001b[0;32m<ipython-input-21-fed3023a9f1d>\u001b[0m in \u001b[0;36m<module>\u001b[0;34m\u001b[0m\n\u001b[1;32m      1\u001b[0m \u001b[0;31m#Operadores Aritmétricos - Subtração\u001b[0m\u001b[0;34m\u001b[0m\u001b[0;34m\u001b[0m\u001b[0m\n\u001b[1;32m      2\u001b[0m \u001b[0;34m\u001b[0m\u001b[0m\n\u001b[0;32m----> 3\u001b[0;31m \u001b[0msub\u001b[0m \u001b[0;34m=\u001b[0m \u001b[0mnum1\u001b[0m \u001b[0;34m-\u001b[0m \u001b[0mnum2\u001b[0m\u001b[0;34m\u001b[0m\u001b[0;34m\u001b[0m\u001b[0m\n\u001b[0m\u001b[1;32m      4\u001b[0m \u001b[0mprint\u001b[0m\u001b[0;34m(\u001b[0m\u001b[0;34m\"{} - {} = {}\"\u001b[0m\u001b[0;34m.\u001b[0m\u001b[0mformat\u001b[0m\u001b[0;34m(\u001b[0m\u001b[0mnum1\u001b[0m\u001b[0;34m,\u001b[0m \u001b[0mnum2\u001b[0m\u001b[0;34m,\u001b[0m \u001b[0msub\u001b[0m\u001b[0;34m)\u001b[0m\u001b[0;34m)\u001b[0m\u001b[0;34m\u001b[0m\u001b[0;34m\u001b[0m\u001b[0m\n",
            "\u001b[0;31mTypeError\u001b[0m: unsupported operand type(s) for -: 'str' and 'str'"
          ]
        }
      ]
    },
    {
      "cell_type": "code",
      "source": [
        "#Operadores Aritmétricos - Multiplicação\n",
        "\n",
        "mult = num1 * num2\n",
        "print(\"{} * {} = {}\".format(num1, num2, mult))"
      ],
      "metadata": {
        "colab": {
          "base_uri": "https://localhost:8080/",
          "height": 217
        },
        "id": "rOVxaZX0oVY9",
        "outputId": "8e190561-df4e-4125-a8e1-4d38b8483103"
      },
      "execution_count": 22,
      "outputs": [
        {
          "output_type": "error",
          "ename": "TypeError",
          "evalue": "ignored",
          "traceback": [
            "\u001b[0;31m---------------------------------------------------------------------------\u001b[0m",
            "\u001b[0;31mTypeError\u001b[0m                                 Traceback (most recent call last)",
            "\u001b[0;32m<ipython-input-22-0a273ed7ddda>\u001b[0m in \u001b[0;36m<module>\u001b[0;34m\u001b[0m\n\u001b[1;32m      1\u001b[0m \u001b[0;31m#Operadores Aritmétricos - Multiplicação\u001b[0m\u001b[0;34m\u001b[0m\u001b[0;34m\u001b[0m\u001b[0m\n\u001b[1;32m      2\u001b[0m \u001b[0;34m\u001b[0m\u001b[0m\n\u001b[0;32m----> 3\u001b[0;31m \u001b[0mmult\u001b[0m \u001b[0;34m=\u001b[0m \u001b[0mnum1\u001b[0m \u001b[0;34m*\u001b[0m \u001b[0mnum2\u001b[0m\u001b[0;34m\u001b[0m\u001b[0;34m\u001b[0m\u001b[0m\n\u001b[0m\u001b[1;32m      4\u001b[0m \u001b[0mprint\u001b[0m\u001b[0;34m(\u001b[0m\u001b[0;34m\"{} * {} = {}\"\u001b[0m\u001b[0;34m.\u001b[0m\u001b[0mformat\u001b[0m\u001b[0;34m(\u001b[0m\u001b[0mnum1\u001b[0m\u001b[0;34m,\u001b[0m \u001b[0mnum2\u001b[0m\u001b[0;34m,\u001b[0m \u001b[0mmult\u001b[0m\u001b[0;34m)\u001b[0m\u001b[0;34m)\u001b[0m\u001b[0;34m\u001b[0m\u001b[0;34m\u001b[0m\u001b[0m\n",
            "\u001b[0;31mTypeError\u001b[0m: can't multiply sequence by non-int of type 'str'"
          ]
        }
      ]
    },
    {
      "cell_type": "code",
      "source": [
        "#Operadores Aritmétricos - Divisão\n",
        "\n",
        "div = num1 / num2\n",
        "print(\"{} / {} = {}\".format(num1, num2, div))"
      ],
      "metadata": {
        "colab": {
          "base_uri": "https://localhost:8080/",
          "height": 217
        },
        "id": "OWGPTYWlojZC",
        "outputId": "4fb66756-70f2-471c-853a-a853037d6920"
      },
      "execution_count": 23,
      "outputs": [
        {
          "output_type": "error",
          "ename": "TypeError",
          "evalue": "ignored",
          "traceback": [
            "\u001b[0;31m---------------------------------------------------------------------------\u001b[0m",
            "\u001b[0;31mTypeError\u001b[0m                                 Traceback (most recent call last)",
            "\u001b[0;32m<ipython-input-23-9b496e20a249>\u001b[0m in \u001b[0;36m<module>\u001b[0;34m\u001b[0m\n\u001b[1;32m      1\u001b[0m \u001b[0;31m#Operadores Aritmétricos - Divisão\u001b[0m\u001b[0;34m\u001b[0m\u001b[0;34m\u001b[0m\u001b[0m\n\u001b[1;32m      2\u001b[0m \u001b[0;34m\u001b[0m\u001b[0m\n\u001b[0;32m----> 3\u001b[0;31m \u001b[0mdiv\u001b[0m \u001b[0;34m=\u001b[0m \u001b[0mnum1\u001b[0m \u001b[0;34m/\u001b[0m \u001b[0mnum2\u001b[0m\u001b[0;34m\u001b[0m\u001b[0;34m\u001b[0m\u001b[0m\n\u001b[0m\u001b[1;32m      4\u001b[0m \u001b[0mprint\u001b[0m\u001b[0;34m(\u001b[0m\u001b[0;34m\"{} / {} = {}\"\u001b[0m\u001b[0;34m.\u001b[0m\u001b[0mformat\u001b[0m\u001b[0;34m(\u001b[0m\u001b[0mnum1\u001b[0m\u001b[0;34m,\u001b[0m \u001b[0mnum2\u001b[0m\u001b[0;34m,\u001b[0m \u001b[0mdiv\u001b[0m\u001b[0;34m)\u001b[0m\u001b[0;34m)\u001b[0m\u001b[0;34m\u001b[0m\u001b[0;34m\u001b[0m\u001b[0m\n",
            "\u001b[0;31mTypeError\u001b[0m: unsupported operand type(s) for /: 'str' and 'str'"
          ]
        }
      ]
    },
    {
      "cell_type": "code",
      "source": [
        "#Operadores Aritmétricos - Resto de uma Divisão\n",
        "\n",
        "mod = num1 % num2\n",
        "print(\"{} % {} = {}\".format(num1, num2, mod))"
      ],
      "metadata": {
        "colab": {
          "base_uri": "https://localhost:8080/",
          "height": 217
        },
        "id": "LeulG7oFowXE",
        "outputId": "e4d55f05-0cfc-4f71-b2a8-3cddefd0b5c6"
      },
      "execution_count": 24,
      "outputs": [
        {
          "output_type": "error",
          "ename": "TypeError",
          "evalue": "ignored",
          "traceback": [
            "\u001b[0;31m---------------------------------------------------------------------------\u001b[0m",
            "\u001b[0;31mTypeError\u001b[0m                                 Traceback (most recent call last)",
            "\u001b[0;32m<ipython-input-24-4219ada5714f>\u001b[0m in \u001b[0;36m<module>\u001b[0;34m\u001b[0m\n\u001b[1;32m      1\u001b[0m \u001b[0;31m#Operadores Aritmétricos - Resto de uma Divisão\u001b[0m\u001b[0;34m\u001b[0m\u001b[0;34m\u001b[0m\u001b[0m\n\u001b[1;32m      2\u001b[0m \u001b[0;34m\u001b[0m\u001b[0m\n\u001b[0;32m----> 3\u001b[0;31m \u001b[0mmod\u001b[0m \u001b[0;34m=\u001b[0m \u001b[0mnum1\u001b[0m \u001b[0;34m%\u001b[0m \u001b[0mnum2\u001b[0m\u001b[0;34m\u001b[0m\u001b[0;34m\u001b[0m\u001b[0m\n\u001b[0m\u001b[1;32m      4\u001b[0m \u001b[0mprint\u001b[0m\u001b[0;34m(\u001b[0m\u001b[0;34m\"{} % {} = {}\"\u001b[0m\u001b[0;34m.\u001b[0m\u001b[0mformat\u001b[0m\u001b[0;34m(\u001b[0m\u001b[0mnum1\u001b[0m\u001b[0;34m,\u001b[0m \u001b[0mnum2\u001b[0m\u001b[0;34m,\u001b[0m \u001b[0mmod\u001b[0m\u001b[0;34m)\u001b[0m\u001b[0;34m)\u001b[0m\u001b[0;34m\u001b[0m\u001b[0;34m\u001b[0m\u001b[0m\n",
            "\u001b[0;31mTypeError\u001b[0m: not all arguments converted during string formatting"
          ]
        }
      ]
    },
    {
      "cell_type": "code",
      "source": [
        "#Operadores Aritmétricos - Exponenciação\n",
        "\n",
        "exp = num1 ** num2\n",
        "print(\"{} ** {} = {}\".format(num1, num2, exp))"
      ],
      "metadata": {
        "colab": {
          "base_uri": "https://localhost:8080/",
          "height": 217
        },
        "id": "ninb3pwNpKIf",
        "outputId": "1c6f16e0-c8f9-428c-9219-e49d21bcf4e3"
      },
      "execution_count": 25,
      "outputs": [
        {
          "output_type": "error",
          "ename": "TypeError",
          "evalue": "ignored",
          "traceback": [
            "\u001b[0;31m---------------------------------------------------------------------------\u001b[0m",
            "\u001b[0;31mTypeError\u001b[0m                                 Traceback (most recent call last)",
            "\u001b[0;32m<ipython-input-25-8b4f6d72b27f>\u001b[0m in \u001b[0;36m<module>\u001b[0;34m\u001b[0m\n\u001b[1;32m      1\u001b[0m \u001b[0;31m#Operadores Aritmétricos - Exponenciação\u001b[0m\u001b[0;34m\u001b[0m\u001b[0;34m\u001b[0m\u001b[0m\n\u001b[1;32m      2\u001b[0m \u001b[0;34m\u001b[0m\u001b[0m\n\u001b[0;32m----> 3\u001b[0;31m \u001b[0mexp\u001b[0m \u001b[0;34m=\u001b[0m \u001b[0mnum1\u001b[0m \u001b[0;34m**\u001b[0m \u001b[0mnum2\u001b[0m\u001b[0;34m\u001b[0m\u001b[0;34m\u001b[0m\u001b[0m\n\u001b[0m\u001b[1;32m      4\u001b[0m \u001b[0mprint\u001b[0m\u001b[0;34m(\u001b[0m\u001b[0;34m\"{} ** {} = {}\"\u001b[0m\u001b[0;34m.\u001b[0m\u001b[0mformat\u001b[0m\u001b[0;34m(\u001b[0m\u001b[0mnum1\u001b[0m\u001b[0;34m,\u001b[0m \u001b[0mnum2\u001b[0m\u001b[0;34m,\u001b[0m \u001b[0mexp\u001b[0m\u001b[0;34m)\u001b[0m\u001b[0;34m)\u001b[0m\u001b[0;34m\u001b[0m\u001b[0;34m\u001b[0m\u001b[0m\n",
            "\u001b[0;31mTypeError\u001b[0m: unsupported operand type(s) for ** or pow(): 'str' and 'str'"
          ]
        }
      ]
    }
  ]
}