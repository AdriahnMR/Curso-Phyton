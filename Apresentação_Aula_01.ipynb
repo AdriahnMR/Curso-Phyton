{
  "nbformat": 4,
  "nbformat_minor": 0,
  "metadata": {
    "colab": {
      "provenance": [],
      "authorship_tag": "ABX9TyO6vVj8qBIhw/SZVv1GFrrR",
      "include_colab_link": true
    },
    "kernelspec": {
      "name": "python3",
      "display_name": "Python 3"
    },
    "language_info": {
      "name": "python"
    }
  },
  "cells": [
    {
      "cell_type": "markdown",
      "metadata": {
        "id": "view-in-github",
        "colab_type": "text"
      },
      "source": [
        "<a href=\"https://colab.research.google.com/github/AdriahnMR/Curso-Phyton/blob/main/Apresenta%C3%A7%C3%A3o_Aula_01.ipynb\" target=\"_parent\"><img src=\"https://colab.research.google.com/assets/colab-badge.svg\" alt=\"Open In Colab\"/></a>"
      ]
    },
    {
      "cell_type": "markdown",
      "source": [
        "*Primeira aula de Phyton*\n",
        "\n",
        "Autor: Adriahn Moura Roque\n",
        "\n",
        "Data: 22/03/2023\n"
      ],
      "metadata": {
        "id": "aQlTbx39R8Jf"
      }
    },
    {
      "cell_type": "code",
      "source": [
        "#Fazendo um programa que escreve na tela Olá Mundo!\n",
        "print (\"Olá mundo!\")"
      ],
      "metadata": {
        "colab": {
          "base_uri": "https://localhost:8080/"
        },
        "id": "7iFNOjncVP0L",
        "outputId": "61089e25-238a-4199-92b2-e46283a7fe86"
      },
      "execution_count": 6,
      "outputs": [
        {
          "output_type": "stream",
          "name": "stdout",
          "text": [
            "Olá mundo!\n"
          ]
        }
      ]
    },
    {
      "cell_type": "code",
      "source": [
        "#Relacionando informações\n",
        "\n",
        "# Texto com booleano\n",
        "# Textos longos, com mais de uma linha\n",
        "# Imprimir a mensagem \n",
        "#     \"Professor, você é muito legal\"\n",
        "# Mas o muito deve ser repetido 25 vezes."
      ],
      "metadata": {
        "id": "tOtP4FMIV-H3"
      },
      "execution_count": 7,
      "outputs": []
    }
  ]
}