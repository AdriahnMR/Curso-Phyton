{
  "nbformat": 4,
  "nbformat_minor": 0,
  "metadata": {
    "colab": {
      "provenance": [],
      "authorship_tag": "ABX9TyNq3c3+kD5YGrIplBiCpbFI",
      "include_colab_link": true
    },
    "kernelspec": {
      "name": "python3",
      "display_name": "Python 3"
    },
    "language_info": {
      "name": "python"
    }
  },
  "cells": [
    {
      "cell_type": "markdown",
      "metadata": {
        "id": "view-in-github",
        "colab_type": "text"
      },
      "source": [
        "<a href=\"https://colab.research.google.com/github/AdriahnMR/Curso-Phyton/blob/main/Apresenta%C3%A7%C3%A3o_Aula_01.ipynb\" target=\"_parent\"><img src=\"https://colab.research.google.com/assets/colab-badge.svg\" alt=\"Open In Colab\"/></a>"
      ]
    },
    {
      "cell_type": "markdown",
      "source": [
        "*Primeira aula de Phyton*\n",
        "\n",
        "Autor: Adriahn Moura Roque\n",
        "\n",
        "Data: 22/03/2023\n"
      ],
      "metadata": {
        "id": "aQlTbx39R8Jf"
      }
    },
    {
      "cell_type": "code",
      "source": [
        "#Fazendo um programa que escreve na tela Olá Mundo!\n",
        "print (\"Olá mundo!\")"
      ],
      "metadata": {
        "colab": {
          "base_uri": "https://localhost:8080/"
        },
        "id": "7iFNOjncVP0L",
        "outputId": "61089e25-238a-4199-92b2-e46283a7fe86"
      },
      "execution_count": 6,
      "outputs": [
        {
          "output_type": "stream",
          "name": "stdout",
          "text": [
            "Olá mundo!\n"
          ]
        }
      ]
    },
    {
      "cell_type": "code",
      "source": [
        "#Relacionando informações\n",
        "\n",
        "# Texto com booleano\n",
        "# Textos longos, com mais de uma linha\n",
        "# Imprimir a mensagem \n",
        "#     \"Professor, você é muito legal\"\n",
        "# Mas o muito deve ser repetido 25 vezes.\n",
        "\n",
        "'''\n",
        "Comentário com \n",
        "várias linhas \n",
        "'''\n",
        "# Texto e números\n",
        "print(\"Idade: \", 41)\n",
        "\n",
        "# Texto com booleano\n",
        "print(\"Cerveja:\", True)\n",
        "\n",
        "# Textos longos, com mais de uma linha\n",
        "print('''Cardapio:\n",
        "    1 - Hamburguer\n",
        "    2 - Pizza\n",
        "    3 - Dogão\n",
        "    4 - Refri ''')\n",
        "\n",
        "# Imprimir a mensagem \n",
        "#     \"Professor, você é muito legal\"\n",
        "# Mas o muito deve ser repetido 25 vezes.\n",
        "print(\"Professor, você é \", 25*\"muito \", \"legal\")"
      ],
      "metadata": {
        "colab": {
          "base_uri": "https://localhost:8080/"
        },
        "id": "tOtP4FMIV-H3",
        "outputId": "28f09ea4-91c2-4a84-90fd-8e94885c9360"
      },
      "execution_count": 9,
      "outputs": [
        {
          "output_type": "stream",
          "name": "stdout",
          "text": [
            "Idade:  41\n",
            "Cerveja: True\n",
            "Cardapio:\n",
            "    1 - Hamburguer\n",
            "    2 - Pizza\n",
            "    3 - Dogão\n",
            "    4 - Refri \n",
            "Professor, você é  muito muito muito muito muito muito muito muito muito muito muito muito muito muito muito muito muito muito muito muito muito muito muito muito muito  legal\n"
          ]
        }
      ]
    },
    {
      "cell_type": "code",
      "source": [
        "#Variáveis\n",
        "ham = 25\n",
        "pizza = 50\n",
        "dogão = 15\n",
        "refri = 10\n",
        "print('''Cardapio:\n",
        "    1 - Hamburguer {}\n",
        "    2 - Pizza {}\n",
        "    3 - Dogão {}\n",
        "    4 - Refri {} '''.format(ham,pizza,dogão,refri))"
      ],
      "metadata": {
        "colab": {
          "base_uri": "https://localhost:8080/"
        },
        "id": "C9u50B6hZbN4",
        "outputId": "a8317d6a-7cbc-4b55-eebc-d3cdd7c498f0"
      },
      "execution_count": 20,
      "outputs": [
        {
          "output_type": "stream",
          "name": "stdout",
          "text": [
            "Cardapio:\n",
            "    1 - Hamburguer 25\n",
            "    2 - Pizza 50\n",
            "    3 - Dogão 15\n",
            "    4 - Refri 10 \n"
          ]
        }
      ]
    },
    {
      "cell_type": "code",
      "source": [
        "# EXEMPLO DE COMO SERIA DECLARAR UMA VARIÁVEL NO JAVA\n",
        "'''\n",
        "int ham, pizza, dogao, refri;\n",
        "ham = 25;\n",
        "pizza = 50;\n",
        "dogao = 15;\n",
        "refri = 10\n",
        "\n",
        "System.out.println(\"Cardápio\\n\" + \n",
        "\"1 - Hambúrguer \" + ham = \"\n",
        "...)"
      ],
      "metadata": {
        "colab": {
          "base_uri": "https://localhost:8080/",
          "height": 148
        },
        "id": "0hw9UglnbGk2",
        "outputId": "110b50f9-a20f-4e61-c796-9ffb5da539bb"
      },
      "execution_count": 17,
      "outputs": [
        {
          "output_type": "error",
          "ename": "SyntaxError",
          "evalue": "ignored",
          "traceback": [
            "\u001b[0;36m  File \u001b[0;32m\"<ipython-input-17-be003138d1dc>\"\u001b[0;36m, line \u001b[0;32m11\u001b[0m\n\u001b[0;31m    ...)\u001b[0m\n\u001b[0m        \n^\u001b[0m\n\u001b[0;31mSyntaxError\u001b[0m\u001b[0;31m:\u001b[0m EOF while scanning triple-quoted string literal\n"
          ]
        }
      ]
    },
    {
      "cell_type": "code",
      "source": [
        "#Número inteiro"
      ],
      "metadata": {
        "id": "YxP1PiGTdgEC"
      },
      "execution_count": 14,
      "outputs": []
    },
    {
      "cell_type": "code",
      "source": [
        "#Texto e comentário\n",
        "texto1 = 'O Professor João é muito legal.'\n",
        "texto2 = 'Mas é muito legal mesmo.'\n",
        "\n",
        "print(texto1, texto2)"
      ],
      "metadata": {
        "colab": {
          "base_uri": "https://localhost:8080/"
        },
        "id": "bzOdgyQWeT1J",
        "outputId": "be108c4f-c03a-49b3-b67d-3ad9ea1020de"
      },
      "execution_count": 18,
      "outputs": [
        {
          "output_type": "stream",
          "name": "stdout",
          "text": [
            "O Professor João é muito legal. Mas é muito legal mesmo.\n"
          ]
        }
      ]
    },
    {
      "cell_type": "code",
      "source": [
        "#Lógico ou Booleano"
      ],
      "metadata": {
        "id": "VtTO63ozffXy"
      },
      "execution_count": null,
      "outputs": []
    },
    {
      "cell_type": "code",
      "source": [
        "#Lista\n",
        "\n",
        "#Declarar a Variável tipo lista\n",
        "produtos = ['PS5', 'PS4','PS3']\n",
        "preços = [4800, 2500, 1200]\n",
        "#Imprimir as variáveis na tela (usar .format)\n",
        "print(\"{}: {}\".format(produtos, preços))"
      ],
      "metadata": {
        "colab": {
          "base_uri": "https://localhost:8080/"
        },
        "id": "vuwmwA2Wfl6F",
        "outputId": "1174d6a4-5d4a-41da-ba74-5e05f7dffce3"
      },
      "execution_count": 21,
      "outputs": [
        {
          "output_type": "stream",
          "name": "stdout",
          "text": [
            "['PS5', 'PS4', 'PS3']: [4800, 2500, 1200]\n"
          ]
        }
      ]
    },
    {
      "cell_type": "code",
      "source": [
        "#Dicionário\n",
        "dic = {\n",
        "    'Nome do usuário': ['Joao Felipe', 'Miguel', 'Amy', 'Ellen', 'Hyago'],\n",
        "    'Login': 'joao.fel',\n",
        "    'senha': 123,\n",
        "    'e-mail': 'joao@joao.com.br',\n",
        "}\n",
        "\n",
        "print(dic)\n"
      ],
      "metadata": {
        "colab": {
          "base_uri": "https://localhost:8080/"
        },
        "id": "6LuazibFiLNr",
        "outputId": "4a7d1c3b-760e-4edb-9a1d-fc9f86a9ee81"
      },
      "execution_count": 29,
      "outputs": [
        {
          "output_type": "stream",
          "name": "stdout",
          "text": [
            "{'Nome do usuário': ['Joao Felipe', 'Miguel', 'Amy', 'Ellen', 'Hyago'], 'Login': 'joao.fel', 'senha': 123, 'e-mail': 'joao@joao.com.br'}\n"
          ]
        }
      ]
    },
    {
      "cell_type": "code",
      "source": [
        "#Operadores Aritmétricos - Adição\n",
        "\n",
        "# Declarar a primeira variável:\n",
        "print(\"Digite um numero\")\n",
        "num1 = input()\n",
        "# Declarar a segunda variável:\n",
        "print(\"Digite outro numero\")\n",
        "num2 = input()\n",
        "# Fazer a soma da primeira variável com a segunda variável\n",
        "soma  = int(num1) + int(num2)\n",
        "# Imprimir na tela\n",
        "print(\"{} + {} = {}\".format(num1, num2, soma))"
      ],
      "metadata": {
        "colab": {
          "base_uri": "https://localhost:8080/"
        },
        "id": "TBLyyWYHlYwz",
        "outputId": "5c049cc0-e442-493d-e437-cd1dcb2c887f"
      },
      "execution_count": 31,
      "outputs": [
        {
          "output_type": "stream",
          "name": "stdout",
          "text": [
            "Digite um numero\n",
            "12\n",
            "Digite outro numero\n",
            "15\n",
            "12 + 15 = 27\n"
          ]
        }
      ]
    },
    {
      "cell_type": "code",
      "source": [
        "#Operadores Aritmétricos - Subtração\n",
        "\n",
        "sub = num1 - num2\n",
        "print(\"{} - {} = {}\".format(num1, num2, sub))\n"
      ],
      "metadata": {
        "colab": {
          "base_uri": "https://localhost:8080/"
        },
        "id": "gbUpZKh-oIyc",
        "outputId": "fec07d71-f47f-46b4-ab48-3a9aad25a357"
      },
      "execution_count": 35,
      "outputs": [
        {
          "output_type": "stream",
          "name": "stdout",
          "text": [
            "5.0 - 4.0 = 1.0\n"
          ]
        }
      ]
    },
    {
      "cell_type": "code",
      "source": [
        "#Operadores Aritmétricos - Multiplicação\n",
        "\n",
        "mult = num1 * num2\n",
        "print(\"{} * {} = {}\".format(num1, num2, mult))"
      ],
      "metadata": {
        "colab": {
          "base_uri": "https://localhost:8080/"
        },
        "id": "rOVxaZX0oVY9",
        "outputId": "cb8966ad-9fe0-4077-c5bb-eae8555d163f"
      },
      "execution_count": 36,
      "outputs": [
        {
          "output_type": "stream",
          "name": "stdout",
          "text": [
            "5.0 * 4.0 = 20.0\n"
          ]
        }
      ]
    },
    {
      "cell_type": "code",
      "source": [
        "#Operadores Aritmétricos - Divisão\n",
        "\n",
        "div = num1 / num2\n",
        "print(\"{} / {} = {}\".format(num1, num2, div))"
      ],
      "metadata": {
        "colab": {
          "base_uri": "https://localhost:8080/"
        },
        "id": "OWGPTYWlojZC",
        "outputId": "718e0904-a14c-4087-c8b4-a3a7c5cd6851"
      },
      "execution_count": 37,
      "outputs": [
        {
          "output_type": "stream",
          "name": "stdout",
          "text": [
            "5.0 / 4.0 = 1.25\n"
          ]
        }
      ]
    },
    {
      "cell_type": "code",
      "source": [
        "#Operadores Aritmétricos - Resto de uma Divisão\n",
        "\n",
        "mod = num1 % num2\n",
        "print(\"{} % {} = {}\".format(num1, num2, mod))"
      ],
      "metadata": {
        "colab": {
          "base_uri": "https://localhost:8080/"
        },
        "id": "LeulG7oFowXE",
        "outputId": "7261dd42-8a87-4361-a620-71481317f5d8"
      },
      "execution_count": 39,
      "outputs": [
        {
          "output_type": "stream",
          "name": "stdout",
          "text": [
            "5.0 % 4.0 = 1.0\n"
          ]
        }
      ]
    },
    {
      "cell_type": "code",
      "source": [
        "#Operadores Aritmétricos - Exponenciação\n",
        "\n",
        "exp = num1 ** num2\n",
        "print(\"{} ** {} = {}\".format(num1, num2, exp))"
      ],
      "metadata": {
        "colab": {
          "base_uri": "https://localhost:8080/"
        },
        "id": "ninb3pwNpKIf",
        "outputId": "ab1d5948-29e0-4f68-da2e-71bec4048d1f"
      },
      "execution_count": 41,
      "outputs": [
        {
          "output_type": "stream",
          "name": "stdout",
          "text": [
            "5.0 ** 4.0 = 625.0\n"
          ]
        }
      ]
    }
  ]
}