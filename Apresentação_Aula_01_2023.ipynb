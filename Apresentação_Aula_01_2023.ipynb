{
  "nbformat": 4,
  "nbformat_minor": 0,
  "metadata": {
    "colab": {
      "provenance": [],
      "authorship_tag": "ABX9TyN2Hr/QlM7PwNr1raDrRM7z",
      "include_colab_link": true
    },
    "kernelspec": {
      "name": "python3",
      "display_name": "Python 3"
    },
    "language_info": {
      "name": "python"
    }
  },
  "cells": [
    {
      "cell_type": "markdown",
      "metadata": {
        "id": "view-in-github",
        "colab_type": "text"
      },
      "source": [
        "<a href=\"https://colab.research.google.com/github/AdriahnMR/Curso-Phyton/blob/main/Apresenta%C3%A7%C3%A3o_Aula_01_2023.ipynb\" target=\"_parent\"><img src=\"https://colab.research.google.com/assets/colab-badge.svg\" alt=\"Open In Colab\"/></a>"
      ]
    },
    {
      "cell_type": "markdown",
      "source": [
        "*Primeira aula de Phyton*\n",
        "\n",
        "Autor: Adriahn Moura Roque\n",
        "\n",
        "Data: 22/03/2023\n"
      ],
      "metadata": {
        "id": "aQlTbx39R8Jf"
      }
    },
    {
      "cell_type": "code",
      "source": [
        "#Fazendo um programa que escreve na tela Olá Mundo!\n",
        "print (\"Olá mundo!\")"
      ],
      "metadata": {
        "colab": {
          "base_uri": "https://localhost:8080/"
        },
        "id": "7iFNOjncVP0L",
        "outputId": "46087221-165a-43ce-dac9-4663f3ed047f"
      },
      "execution_count": 83,
      "outputs": [
        {
          "output_type": "stream",
          "name": "stdout",
          "text": [
            "Olá mundo!\n"
          ]
        }
      ]
    },
    {
      "cell_type": "code",
      "source": [
        "#Relacionando informações\n",
        "\n",
        "# Texto e números\n",
        "# Texto com booleano\n",
        "# Textos longos, com mais de uma linha\n",
        "# Imprimir a mensagem \n",
        "#     \"Professor, você é muito legal\"\n",
        "# Mas o muito deve ser repetido 25 vezes.\n",
        "\n",
        "'''\n",
        "Comentário com \n",
        "várias linhas \n",
        "'''\n",
        "# Texto e números\n",
        "print(\"Idade: \", 41)\n",
        "\n",
        "# Texto com booleano\n",
        "print(\"Cerveja:\", True)\n",
        "\n",
        "# Textos longos, com mais de uma linha\n",
        "print('''Cardapio:\n",
        "    1 - Hamburguer\n",
        "    2 - Pizza\n",
        "    3 - Dogão\n",
        "    4 - Refri ''')\n",
        "\n",
        "# Imprimir a mensagem \n",
        "#     \"Professor, você é muito legal\"\n",
        "# Mas o muito deve ser repetido 25 vezes.\n",
        "print(\"Professor, você é \", 25*\"muito \", \"legal\")"
      ],
      "metadata": {
        "colab": {
          "base_uri": "https://localhost:8080/"
        },
        "id": "tOtP4FMIV-H3",
        "outputId": "f9b9ba8a-414e-4371-9e30-b0d5f70fc9bb"
      },
      "execution_count": 84,
      "outputs": [
        {
          "output_type": "stream",
          "name": "stdout",
          "text": [
            "Idade:  41\n",
            "Cerveja: True\n",
            "Cardapio:\n",
            "    1 - Hamburguer\n",
            "    2 - Pizza\n",
            "    3 - Dogão\n",
            "    4 - Refri \n",
            "Professor, você é  muito muito muito muito muito muito muito muito muito muito muito muito muito muito muito muito muito muito muito muito muito muito muito muito muito  legal\n"
          ]
        }
      ]
    },
    {
      "cell_type": "code",
      "source": [
        "#Número Inteiro\n",
        "#Número Real\n",
        "\n",
        "a = 2 #inteiro\n",
        "print(a)\n",
        "a = 3.14 #real\n",
        "print(a)\n",
        "a = \"Joao\"\n",
        "print(a)\n",
        "a = list(range(5))\n",
        "print(a)\n",
        "a = {'Nome': 'Joao Felipe',\n",
        "     'Idade': 41,\n",
        "     'Estado Civil': 'Casado'}\n",
        "print(a)"
      ],
      "metadata": {
        "colab": {
          "base_uri": "https://localhost:8080/"
        },
        "id": "6e3Pgnf8tlsP",
        "outputId": "00964e04-f898-4dad-b65c-66d76a221a99"
      },
      "execution_count": 85,
      "outputs": [
        {
          "output_type": "stream",
          "name": "stdout",
          "text": [
            "2\n",
            "3.14\n",
            "Joao\n",
            "[0, 1, 2, 3, 4]\n",
            "{'Nome': 'Joao Felipe', 'Idade': 41, 'Estado Civil': 'Casado'}\n"
          ]
        }
      ]
    },
    {
      "cell_type": "code",
      "source": [
        "#Número Inteiro\n",
        "#Número Real\n",
        "\n",
        "# Declarar a Variável Inteira\n",
        "numero = 1000\n",
        "# Imprimir as variáveis na tela (usar .format)\n",
        "print(\"O número digitado foi\", numero)"
      ],
      "metadata": {
        "colab": {
          "base_uri": "https://localhost:8080/"
        },
        "id": "Ftg6CpTKMqbt",
        "outputId": "04e16668-5c0b-4cc8-c9ca-85d6ca32c017"
      },
      "execution_count": 86,
      "outputs": [
        {
          "output_type": "stream",
          "name": "stdout",
          "text": [
            "O número digitado foi 1000\n"
          ]
        }
      ]
    },
    {
      "cell_type": "code",
      "source": [
        "#Número Inteiro\n",
        "#Número Real\n",
        "\n",
        "# Declarar a Variável Inteira\n",
        "numero = 1_000_000_000\n",
        "# Imprimir as variáveis na tela (usar .format)\n",
        "print(\"O número digitado foi\",numero)"
      ],
      "metadata": {
        "colab": {
          "base_uri": "https://localhost:8080/"
        },
        "id": "kxDiKSPGNbcy",
        "outputId": "52362c8c-6e40-4fda-bbfd-2864799646e6"
      },
      "execution_count": 87,
      "outputs": [
        {
          "output_type": "stream",
          "name": "stdout",
          "text": [
            "O número digitado foi 1000000000\n"
          ]
        }
      ]
    },
    {
      "cell_type": "code",
      "source": [
        "#Número Inteiro\n",
        "#Número Real\n",
        "\n",
        "# Declarar a Variável Inteira\n",
        "numero1 = 1\n",
        "numero2 = 2\n",
        "# Imprimir as variáveis na tela (usar .format)\n",
        "print(\"O número\", numero1, \" é menor do que o número \", numero2)"
      ],
      "metadata": {
        "colab": {
          "base_uri": "https://localhost:8080/"
        },
        "id": "BZ-1Xt_sxzYy",
        "outputId": "12d2b687-7608-4429-fd08-60b562c94760"
      },
      "execution_count": 88,
      "outputs": [
        {
          "output_type": "stream",
          "name": "stdout",
          "text": [
            "O número 1  é menor do que o número  2\n"
          ]
        }
      ]
    },
    {
      "cell_type": "code",
      "source": [
        "#Número Inteiro\n",
        "#Número Real\n",
        "\n",
        "# Declarar a Variável Inteira\n",
        "numero1 = 1\n",
        "numero2 = 2\n",
        "# Imprimir as variáveis na tela (usar .format)\n",
        "print(\"O número {} é menor do que o número {}\".format(numero1, numero2))"
      ],
      "metadata": {
        "colab": {
          "base_uri": "https://localhost:8080/"
        },
        "id": "r9Tho8cfOwQJ",
        "outputId": "49169e2b-94a5-42d6-9346-1f6ec6970a0e"
      },
      "execution_count": 89,
      "outputs": [
        {
          "output_type": "stream",
          "name": "stdout",
          "text": [
            "O número 1 é menor do que o número 2\n"
          ]
        }
      ]
    },
    {
      "cell_type": "code",
      "source": [
        "#Número Inteiro\n",
        "#Número Real\n",
        "\n",
        "# Declarar a Variável Inteira\n",
        "pi = 3.14\n",
        "# Imprimir as variáveis na tela (usar .format)\n",
        "print(pi)\n"
      ],
      "metadata": {
        "colab": {
          "base_uri": "https://localhost:8080/"
        },
        "id": "PuO9iGewSYp7",
        "outputId": "8c257fe0-7a52-4985-aaf6-66399612c6fb"
      },
      "execution_count": 90,
      "outputs": [
        {
          "output_type": "stream",
          "name": "stdout",
          "text": [
            "3.14\n"
          ]
        }
      ]
    },
    {
      "cell_type": "code",
      "source": [
        "#Variáveis\n",
        "ham = 25\n",
        "pizza = 50\n",
        "dogão = 15\n",
        "refri = 10\n",
        "print('''Cardapio:\n",
        "    1 - Hamburguer {}\n",
        "    2 - Pizza {}\n",
        "    3 - Dogão {}\n",
        "    4 - Refri {} '''.format(ham,pizza,dogão,refri))"
      ],
      "metadata": {
        "colab": {
          "base_uri": "https://localhost:8080/"
        },
        "id": "C9u50B6hZbN4",
        "outputId": "78b5dec4-2a0a-4d58-8769-e489d0421d5b"
      },
      "execution_count": 91,
      "outputs": [
        {
          "output_type": "stream",
          "name": "stdout",
          "text": [
            "Cardapio:\n",
            "    1 - Hamburguer 25\n",
            "    2 - Pizza 50\n",
            "    3 - Dogão 15\n",
            "    4 - Refri 10 \n"
          ]
        }
      ]
    },
    {
      "cell_type": "code",
      "source": [
        "#Texto e comentário\n",
        "\n",
        "# Declarar a Variável tipo String\n",
        "\n",
        "# Declarar a Variável tipo Comentário\n",
        "\n",
        "# Imprimir as variáveis na tela (usar .format)\n",
        "\n",
        "# Declarar duas variáveis tipo String\n",
        "\n",
        "# Imprimir as frase em um print()\n",
        "texto1 = 'O Professor João é muito legal.'\n",
        "texto2 = 'Mas é muito legal mesmo.'\n",
        "\n",
        "print(texto1, texto2)"
      ],
      "metadata": {
        "colab": {
          "base_uri": "https://localhost:8080/"
        },
        "id": "bzOdgyQWeT1J",
        "outputId": "3ed371d7-929f-41b8-ddb0-81af38d2ee02"
      },
      "execution_count": 92,
      "outputs": [
        {
          "output_type": "stream",
          "name": "stdout",
          "text": [
            "O Professor João é muito legal. Mas é muito legal mesmo.\n"
          ]
        }
      ]
    },
    {
      "cell_type": "code",
      "source": [
        "#Lógico ou Booleano\n"
      ],
      "metadata": {
        "id": "NbSnlR2Cq6yx"
      },
      "execution_count": 93,
      "outputs": []
    },
    {
      "cell_type": "code",
      "source": [
        "#Lista\n",
        "\n",
        "#Declarar a Variável tipo lista\n",
        "produtos = ['PS5', 'PS4','PS3']\n",
        "preços = [4800, 2500, 1200]\n",
        "#Imprimir as variáveis na tela (usar .format)\n",
        "print(\"{}: {}\".format(produtos, preços))"
      ],
      "metadata": {
        "colab": {
          "base_uri": "https://localhost:8080/"
        },
        "id": "vuwmwA2Wfl6F",
        "outputId": "75d993f8-5795-4df3-c114-43c62b3f3066"
      },
      "execution_count": 94,
      "outputs": [
        {
          "output_type": "stream",
          "name": "stdout",
          "text": [
            "['PS5', 'PS4', 'PS3']: [4800, 2500, 1200]\n"
          ]
        }
      ]
    },
    {
      "cell_type": "code",
      "source": [
        "#Dicionário\n",
        "dic = {\n",
        "    'Nome do usuário': ['Joao Felipe', 'Miguel', 'Amy', 'Ellen', 'Hyago'],\n",
        "    'Login': 'joao.fel',\n",
        "    'senha': 123,\n",
        "    'e-mail': 'joao@joao.com.br',\n",
        "}\n",
        "\n",
        "print(dic)\n"
      ],
      "metadata": {
        "colab": {
          "base_uri": "https://localhost:8080/"
        },
        "id": "6LuazibFiLNr",
        "outputId": "70c66cd8-4705-4552-a4b4-0be20989aecc"
      },
      "execution_count": 95,
      "outputs": [
        {
          "output_type": "stream",
          "name": "stdout",
          "text": [
            "{'Nome do usuário': ['Joao Felipe', 'Miguel', 'Amy', 'Ellen', 'Hyago'], 'Login': 'joao.fel', 'senha': 123, 'e-mail': 'joao@joao.com.br'}\n"
          ]
        }
      ]
    },
    {
      "cell_type": "code",
      "source": [
        "#Entrada de dados com INPUT()\n",
        "#Número Inteiro\n",
        "\n",
        "# Declarar variável número\n",
        "print(\"Digite seu nome: \", end=\"\")\n",
        "nome =  input()\n",
        "# Imprimir na tela: \"O número digitado foi \"NÚMERO\"\"\n",
        "print(\"Olá {}\".format(nome))\n",
        "print()"
      ],
      "metadata": {
        "id": "QpijOW9Gr-EX",
        "colab": {
          "base_uri": "https://localhost:8080/"
        },
        "outputId": "22607e23-5b4e-4aa9-83b3-0fd7abfc3cc6"
      },
      "execution_count": 96,
      "outputs": [
        {
          "output_type": "stream",
          "name": "stdout",
          "text": [
            "Digite seu nome: adriahn\n",
            "Olá adriahn\n",
            "\n"
          ]
        }
      ]
    },
    {
      "cell_type": "code",
      "source": [
        "#Operadores Aritmétricos - Adição\n",
        "\n",
        "# Declarar a primeira variável:\n",
        "print(\"Digite um número\")\n",
        "num1 = float(input())\n",
        "# Declarar a segunda variável:\n",
        "print(\"Digite outro número\")\n",
        "num2 = float(input())\n",
        "# Fazer a soma da primeira variável com a segunda variável\n",
        "soma  = num1 + num2\n",
        "# Imprimir na tela\n",
        "print(\"{} + {} = {}\".format(num1, num2, soma))"
      ],
      "metadata": {
        "colab": {
          "base_uri": "https://localhost:8080/"
        },
        "id": "TBLyyWYHlYwz",
        "outputId": "aa22c580-0f3d-4d89-ed24-99b0a9e2a34f"
      },
      "execution_count": 97,
      "outputs": [
        {
          "output_type": "stream",
          "name": "stdout",
          "text": [
            "Digite um número\n",
            "5\n",
            "Digite outro número\n",
            "5\n",
            "5.0 + 5.0 = 10.0\n"
          ]
        }
      ]
    },
    {
      "cell_type": "code",
      "source": [
        "#Operadores Aritmétricos - Subtração\n",
        "\n",
        "sub = num1 - num2\n",
        "print(\"{} - {} = {}\".format(num1, num2, sub))"
      ],
      "metadata": {
        "colab": {
          "base_uri": "https://localhost:8080/"
        },
        "id": "gbUpZKh-oIyc",
        "outputId": "430d8dda-f349-4712-da69-562b181e9bb7"
      },
      "execution_count": 98,
      "outputs": [
        {
          "output_type": "stream",
          "name": "stdout",
          "text": [
            "5.0 - 5.0 = 0.0\n"
          ]
        }
      ]
    },
    {
      "cell_type": "code",
      "source": [
        "#Operadores Aritmétricos - Multiplicação\n",
        "\n",
        "mult = num1 * num2\n",
        "print(\"{} * {} = {}\".format(num1, num2, mult))"
      ],
      "metadata": {
        "colab": {
          "base_uri": "https://localhost:8080/"
        },
        "id": "rOVxaZX0oVY9",
        "outputId": "879e7e4f-4cd7-4e5b-f464-51eef18f2840"
      },
      "execution_count": 99,
      "outputs": [
        {
          "output_type": "stream",
          "name": "stdout",
          "text": [
            "5.0 * 5.0 = 25.0\n"
          ]
        }
      ]
    },
    {
      "cell_type": "code",
      "source": [
        "#Operadores Aritmétricos - Divisão\n",
        "\n",
        "div = num1 / num2\n",
        "print(\"{} / {} = {}\".format(num1, num2, div))"
      ],
      "metadata": {
        "colab": {
          "base_uri": "https://localhost:8080/"
        },
        "id": "OWGPTYWlojZC",
        "outputId": "ea4c0fa4-4a2f-4d53-e103-7feca52a6c81"
      },
      "execution_count": 100,
      "outputs": [
        {
          "output_type": "stream",
          "name": "stdout",
          "text": [
            "5.0 / 5.0 = 1.0\n"
          ]
        }
      ]
    },
    {
      "cell_type": "code",
      "source": [
        "#Operadores Aritmétricos - Resto de uma Divisão\n",
        "\n",
        "mod = num1 % num2\n",
        "print(\"{} % {} = {}\".format(num1, num2, mod))"
      ],
      "metadata": {
        "colab": {
          "base_uri": "https://localhost:8080/"
        },
        "id": "LeulG7oFowXE",
        "outputId": "f0db6071-f2fc-4453-e8cf-6aaeffbc4da5"
      },
      "execution_count": 101,
      "outputs": [
        {
          "output_type": "stream",
          "name": "stdout",
          "text": [
            "5.0 % 5.0 = 0.0\n"
          ]
        }
      ]
    },
    {
      "cell_type": "code",
      "source": [
        "#Operadores Aritmétricos - Exponenciação\n",
        "\n",
        "exp = num1 ** num2\n",
        "print(\"{} ** {} = {}\".format(num1, num2, exp))"
      ],
      "metadata": {
        "colab": {
          "base_uri": "https://localhost:8080/"
        },
        "id": "ninb3pwNpKIf",
        "outputId": "706275d5-b543-4ade-d8fb-e14c08bf4577"
      },
      "execution_count": 102,
      "outputs": [
        {
          "output_type": "stream",
          "name": "stdout",
          "text": [
            "5.0 ** 5.0 = 3125.0\n"
          ]
        }
      ]
    }
  ]
}