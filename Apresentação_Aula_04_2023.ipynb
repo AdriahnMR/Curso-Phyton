{
  "nbformat": 4,
  "nbformat_minor": 0,
  "metadata": {
    "colab": {
      "provenance": [],
      "authorship_tag": "ABX9TyNDE2izTSN3vHUrtRCr7auz",
      "include_colab_link": true
    },
    "kernelspec": {
      "name": "python3",
      "display_name": "Python 3"
    },
    "language_info": {
      "name": "python"
    }
  },
  "cells": [
    {
      "cell_type": "markdown",
      "metadata": {
        "id": "view-in-github",
        "colab_type": "text"
      },
      "source": [
        "<a href=\"https://colab.research.google.com/github/AdriahnMR/Curso-Phyton/blob/main/Apresenta%C3%A7%C3%A3o_Aula_04_2023.ipynb\" target=\"_parent\"><img src=\"https://colab.research.google.com/assets/colab-badge.svg\" alt=\"Open In Colab\"/></a>"
      ]
    },
    {
      "cell_type": "markdown",
      "source": [
        "*Quarta aula de Phyton*\n",
        "\n",
        "Autor: Adriahn Moura Roque\n",
        "\n",
        "Data: 12/04/2023"
      ],
      "metadata": {
        "id": "4KogJygxa2VI"
      }
    },
    {
      "cell_type": "code",
      "source": [
        "# Comando While \n",
        "\n",
        "# Laço de repetição definido:\n",
        "i = 0\n",
        "\n",
        "while i <= 6:\n",
        "    print(i)\n",
        "    i += 1"
      ],
      "metadata": {
        "colab": {
          "base_uri": "https://localhost:8080/"
        },
        "id": "yOuByZMhdxip",
        "outputId": "30609e5d-5b74-4f5d-d0b7-1875c2ad6b56"
      },
      "execution_count": 9,
      "outputs": [
        {
          "output_type": "stream",
          "name": "stdout",
          "text": [
            "0\n",
            "1\n",
            "2\n",
            "3\n",
            "4\n",
            "5\n",
            "6\n"
          ]
        }
      ]
    },
    {
      "cell_type": "code",
      "source": [
        "# Laço de repetição indefinido:\n",
        "\n",
        "i = 0\n",
        "while True:\n",
        "    print(\"Estou preso, me ajude... i = {}\".format(i))\n",
        "    i += 1\n",
        "    if i == 6:\n",
        "        break"
      ],
      "metadata": {
        "colab": {
          "base_uri": "https://localhost:8080/"
        },
        "id": "Ao6e4GSqet9Z",
        "outputId": "2e96383f-656d-4713-afa9-73b67dd48790"
      },
      "execution_count": 14,
      "outputs": [
        {
          "output_type": "stream",
          "name": "stdout",
          "text": [
            "Estou preso, me ajude... i = 0\n",
            "Estou preso, me ajude... i = 1\n",
            "Estou preso, me ajude... i = 2\n",
            "Estou preso, me ajude... i = 3\n",
            "Estou preso, me ajude... i = 4\n",
            "Estou preso, me ajude... i = 5\n"
          ]
        }
      ]
    },
    {
      "cell_type": "markdown",
      "source": [
        "*Exercícios*"
      ],
      "metadata": {
        "id": "2upgslh3nmBs"
      }
    },
    {
      "cell_type": "code",
      "source": [
        "# Faça um programa que peça verifica se o usuário digitou um número inteiro.\n",
        "# Caso tenha digitado, mostrar o número na tela.\n",
        "# Caso não tenha digitado, pedir para o usuário digitar novamente.\n",
        "\n",
        "while True: \n",
        "    verifyInput = input()\n",
        "    if verifyInput.isdigit():\n",
        "        print('É um número')\n",
        "        break\n",
        "    else:\n",
        "        print('Não é um número')"
      ],
      "metadata": {
        "colab": {
          "base_uri": "https://localhost:8080/"
        },
        "id": "AKWu72hcnn_B",
        "outputId": "93d5f12d-666c-4e85-8f8b-c36573324077"
      },
      "execution_count": 18,
      "outputs": [
        {
          "output_type": "stream",
          "name": "stdout",
          "text": [
            "1\n",
            "É um número\n"
          ]
        }
      ]
    },
    {
      "cell_type": "code",
      "source": [
        "# Faça um programa de verificação de login e senha. O usuário pode errar a senha até 3 vezes antes do programa terminar informando que o acesso foi bloqueado.\n",
        "\n",
        "cont = 3 \n",
        "login = ''\n",
        "senha = ''\n",
        "\n",
        "print(\"_______ Crie seu LOGIN e sua SENHA _______\")\n",
        "login = input(\"Crie um login: \")\n",
        "senha = input(\"Crie uma senha: \")\n",
        "\n",
        "while True:\n",
        "    if cont > 0:\n",
        "        print(f\"\\n\\n1 Você tem {cont} tentativas\")\n",
        "        username = input(\"Login: \")\n",
        "        password = input(\"Senha: \")\n",
        "\n",
        "        if login == username and senha == password:\n",
        "            print(\"Acesso liberado\")\n",
        "            break\n",
        "        else:\n",
        "            print(\"Login e/ou senha inválidos\")\n",
        "            cont -= 1\n",
        "    else:\n",
        "            print(\"Acesso bloqueado\")\n",
        "            break\n"
      ],
      "metadata": {
        "colab": {
          "base_uri": "https://localhost:8080/"
        },
        "id": "r_K2Lk4ypxzs",
        "outputId": "7babbf23-cf22-4b47-8153-89a3117a7d09"
      },
      "execution_count": 30,
      "outputs": [
        {
          "output_type": "stream",
          "name": "stdout",
          "text": [
            "_______ Crie seu LOGIN e sua SENHA _______\n",
            "Crie um login: adr\n",
            "Crie uma senha: 123\n",
            "\n",
            "\n",
            "1 Você tem 3 tentativas\n",
            "Login: agdsadf\n",
            "Senha: asdfdasf\n",
            "Login e/ou senha inválidos\n",
            "\n",
            "\n",
            "1 Você tem 2 tentativas\n",
            "Login: fadfdf\n",
            "Senha: asdfdf\n",
            "Login e/ou senha inválidos\n",
            "\n",
            "\n",
            "1 Você tem 1 tentativas\n",
            "Login: asdfda\n",
            "Senha: a\\dfda\n",
            "Login e/ou senha inválidos\n",
            "Acesso bloqueado\n"
          ]
        }
      ]
    },
    {
      "cell_type": "code",
      "source": [
        "# Comando For\n",
        "# Primeiro jeito de fazer for\n",
        "\n",
        "fatorial = 1 # ACUMULADOR DE MULTIPLICAÇÃO\n",
        "try:\n",
        "    num = int(input(\"Digite un número: \"))\n",
        "\n",
        "    for contador in range(num, 1, -1):\n",
        "        fatorial *= contador\n",
        "\n",
        "    print(f'{num}! = {fatorial}')\n",
        "except: \n",
        "    print(\"Entrada inválida\")"
      ],
      "metadata": {
        "colab": {
          "base_uri": "https://localhost:8080/"
        },
        "id": "w2HPHjX-xCMO",
        "outputId": "772ec6f3-8827-4f20-bdd3-0179b0ce78fa"
      },
      "execution_count": 34,
      "outputs": [
        {
          "output_type": "stream",
          "name": "stdout",
          "text": [
            "Digite un número: 5\n",
            "5! = 120\n"
          ]
        }
      ]
    },
    {
      "cell_type": "code",
      "source": [
        "# Comando For\n",
        "# Segundo jeito de fazer for\n",
        "\n",
        "lista = list(range(11))\n",
        "\n",
        "for l in range(len(lista)):\n",
        "    print(1)\n",
        "\n",
        "for l in lista:\n",
        "    print(1)\n"
      ],
      "metadata": {
        "colab": {
          "base_uri": "https://localhost:8080/"
        },
        "id": "U6_esf5n3Jd3",
        "outputId": "37facbd4-7c6a-44e4-e6ef-d6907b54b88a"
      },
      "execution_count": 35,
      "outputs": [
        {
          "output_type": "stream",
          "name": "stdout",
          "text": [
            "1\n",
            "1\n",
            "1\n",
            "1\n",
            "1\n",
            "1\n",
            "1\n",
            "1\n",
            "1\n",
            "1\n",
            "1\n",
            "1\n",
            "1\n",
            "1\n",
            "1\n",
            "1\n",
            "1\n",
            "1\n",
            "1\n",
            "1\n",
            "1\n",
            "1\n"
          ]
        }
      ]
    },
    {
      "cell_type": "code",
      "source": [
        "# Considere a lista a seguir como a quantidade de itens vendidos por cada vendedor de uma loja.\n",
        "# vendas = [100, 150, 1500, 2000, 120]\n",
        "# Caso o vendedor tenha vendido mais de 1000 unidades, ele ganha um bônus de 15% sobre seu salário.\n",
        "# Fazer um programa que informa quem conseguiu o bônus.\n",
        "\n",
        "vendas = [100, 150, 1500, 2000, 120]\n",
        "\n",
        "for i in vendas:\n",
        "    if i > 1000:\n",
        "        print(\"Parabéns, o vendedor recebeu um bônus de 15% sobre seu salário\")\n",
        "    else:\n",
        "        print(\"Vendas insuficientes para bonificação\")"
      ],
      "metadata": {
        "colab": {
          "base_uri": "https://localhost:8080/"
        },
        "id": "DjVpWedl8Eq-",
        "outputId": "8ea7b22c-7a3d-4e48-9af2-10db60411d12"
      },
      "execution_count": 40,
      "outputs": [
        {
          "output_type": "stream",
          "name": "stdout",
          "text": [
            "Vendas insuficientes para bonificação\n",
            "Vendas insuficientes para bonificação\n",
            "Parabéns, o vendedor recebeu um bônus de 15% sobre seu salário\n",
            "Parabéns, o vendedor recebeu um bônus de 15% sobre seu salário\n",
            "Vendas insuficientes para bonificação\n"
          ]
        }
      ]
    }
  ]
}